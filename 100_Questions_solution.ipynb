{
 "cells": [
  {
   "cell_type": "markdown",
   "metadata": {},
   "source": [
    "Question#1:<br>\n",
    "User will input (3ages).Find the oldest one"
   ]
  },
  {
   "cell_type": "code",
   "execution_count": 1,
   "metadata": {},
   "outputs": [
    {
     "name": "stdout",
     "output_type": "stream",
     "text": [
      "The oldest one is:  23456\n"
     ]
    }
   ],
   "source": [
    "\n",
    "age1 = int(input('Enter 1st age: '))\n",
    "age2 = int(input('Enter 2nd age: '))\n",
    "age3 = int(input('Enter 3rd age: '))\n",
    "\n",
    "# maximum = age1\n",
    "# if age2 > maximum:\n",
    "#     maximum = age2\n",
    "# elif age3 > maximum:\n",
    "#     maximum = age3  \n",
    "# print('The oldest one is: ', maximum)\n",
    "\n",
    "ages = list((age1, age2, age3))\n",
    "print('The oldest one is: ', max(ages))"
   ]
  },
  {
   "cell_type": "markdown",
   "metadata": {},
   "source": [
    "Question#2:<br>\n",
    "Write a program that will convert celsius value to fahrenheit"
   ]
  },
  {
   "cell_type": "code",
   "execution_count": 2,
   "metadata": {},
   "outputs": [
    {
     "name": "stdout",
     "output_type": "stream",
     "text": [
      "The temp in fahrenheit is: 100.4.\n"
     ]
    }
   ],
   "source": [
    "temp = float(input('Enter the temp in celcius: '))\n",
    "cel_to_fer = (temp *9/5) +32\n",
    "print(f'The temp in fahrenheit is: {cel_to_fer}.')"
   ]
  },
  {
   "cell_type": "markdown",
   "metadata": {},
   "source": [
    "Question#3:<br>\n",
    "User will input (2numbers).Write a program to swap the numbers"
   ]
  },
  {
   "cell_type": "code",
   "execution_count": 4,
   "metadata": {},
   "outputs": [
    {
     "name": "stdout",
     "output_type": "stream",
     "text": [
      "The numbers are: 32, 12.\n"
     ]
    }
   ],
   "source": [
    "num1 = int(input('Enter 1st number: '))\n",
    "num2 = int(input('Enter 2nd number: '))\n",
    "# temp = num1\n",
    "# num1 = num2\n",
    "# num2 = temp\n",
    "num1,num2 = num2,num1\n",
    "print(f'The numbers are: {num1}, {num2}.')\n",
    "\n"
   ]
  },
  {
   "cell_type": "markdown",
   "metadata": {},
   "source": [
    "Question#4:<br>\n",
    "Write a program that will give you the sum of 3 digits"
   ]
  },
  {
   "cell_type": "code",
   "execution_count": 6,
   "metadata": {},
   "outputs": [
    {
     "name": "stdout",
     "output_type": "stream",
     "text": [
      "Sum of the numbers is: 7.\n"
     ]
    }
   ],
   "source": [
    "num1 = int(input('Enter 1st number: '))\n",
    "num2 = int(input('Enter 2nd number: '))\n",
    "num3 = int(input('Enter 3rd number: '))\n",
    "add = num1+num2+num3\n",
    "print(f'Sum of the numbers is: {add}.')"
   ]
  },
  {
   "cell_type": "markdown",
   "metadata": {},
   "source": [
    "Question#5:<br>\n",
    "Write a program that will reverse a four digit number.Also it checks\n",
    "whether the reverse is true.\n"
   ]
  },
  {
   "cell_type": "code",
   "execution_count": 8,
   "metadata": {},
   "outputs": [
    {
     "name": "stdout",
     "output_type": "stream",
     "text": [
      "The reverse of the number is: 4321.\n"
     ]
    }
   ],
   "source": [
    "num = input('Enter a number: ')\n",
    "print(f'The reverse of the number is: {num[::-1]}.')"
   ]
  },
  {
   "cell_type": "markdown",
   "metadata": {},
   "source": [
    "Question#6:<br>\n",
    "Write a program that will tell whether the number entered by the\n",
    "user is odd or even."
   ]
  },
  {
   "cell_type": "code",
   "execution_count": 10,
   "metadata": {},
   "outputs": [
    {
     "name": "stdout",
     "output_type": "stream",
     "text": [
      "The number 12 is even.\n"
     ]
    }
   ],
   "source": [
    "num = int(input('Enter a number: '))\n",
    "if num%2==0:\n",
    "    print(f'The number {num} is even.')\n",
    "elif num%2!=0:\n",
    "    print(f'The number {num} is odd.')"
   ]
  },
  {
   "cell_type": "markdown",
   "metadata": {},
   "source": [
    "Question#7:<br>\n",
    "Write a program that will tell whether the given year is a leap year\n",
    "or not."
   ]
  },
  {
   "cell_type": "code",
   "execution_count": 15,
   "metadata": {},
   "outputs": [
    {
     "name": "stdout",
     "output_type": "stream",
     "text": [
      "The year 2000 is a leap year.\n"
     ]
    }
   ],
   "source": [
    "year = int(input('Enter a year: '))\n",
    "if year%4==0:\n",
    "    print(f'The year {year} is a leap year.')\n",
    "elif year%100==0:\n",
    "    print(f'The year {year} is not a leap year.')\n",
    "elif year%4000==0:\n",
    "    print(f'The year {year} is a leap year.')\n"
   ]
  },
  {
   "cell_type": "markdown",
   "metadata": {},
   "source": [
    "Question#8:<br>\n",
    "Write a program to find the euclidean distance between two\n",
    "coordinates."
   ]
  },
  {
   "cell_type": "code",
   "execution_count": 18,
   "metadata": {},
   "outputs": [
    {
     "name": "stdout",
     "output_type": "stream",
     "text": [
      "The euclidean distance between p and q is:  11.0\n"
     ]
    }
   ],
   "source": [
    "import math\n",
    "p = int(input(\"Enter the value of p: \"))\n",
    "q = int(input(\"Enter the value of q: \"))\n",
    "e_distance = math.dist([p],[q])\n",
    "print(\"The euclidean distance between p and q is: \", e_distance)"
   ]
  },
  {
   "cell_type": "markdown",
   "metadata": {},
   "source": [
    "Question#9:<br>\n",
    "Write a program that take a user inputr of three angles and will\n",
    "find out whether it can form a triangle or not."
   ]
  },
  {
   "cell_type": "code",
   "execution_count": 19,
   "metadata": {},
   "outputs": [
    {
     "name": "stdout",
     "output_type": "stream",
     "text": [
      "The triangle is valid.\n"
     ]
    }
   ],
   "source": [
    "'''\n",
    "All you have to do is use the Triangle Inequality Theorem, which states that the sum of \n",
    "two side lengths of a triangle is always greater than the third side. If this is true \n",
    "for all three combinations of added side lengths, then you will have a triangle\n",
    "'''\n",
    "\n",
    "a = float(input(\"Enter the value of a: \"))\n",
    "b = float(input(\"Enter the value of b: \"))\n",
    "c = float(input(\"Enter the value of c: \"))\n",
    "if a+b>c and a+c>b and b+c>a:\n",
    "    print(\"The triangle is valid.\")\n",
    "else:\n",
    "    print(\"The triangle is invalid.\")\n",
    "    \n",
    "\n",
    "# A=int(input(\"Enter the angle\"))\n",
    "# B=int(input(\"Enter the angle\"))\n",
    "# C=int(input(\"Enter the angle\"))\n",
    "# S=A+B+C\n",
    "# if S==180:\n",
    "#     print(\"The angles form a triangle\")\n",
    "# else:\n",
    "#     print(\"The angles do not form a triangle\")"
   ]
  },
  {
   "cell_type": "markdown",
   "metadata": {},
   "source": [
    "Question#10:<br>\n",
    "Write a program that will take user input of cost price and selling\n",
    "price and determines<br>\n",
    "whether its a loss or a profit\n"
   ]
  },
  {
   "cell_type": "code",
   "execution_count": 22,
   "metadata": {},
   "outputs": [
    {
     "name": "stdout",
     "output_type": "stream",
     "text": [
      "You have loss of:  3000.0\n"
     ]
    }
   ],
   "source": [
    "cost_price = float(input(\"Enter the cost price: \"))\n",
    "selling_price = float(input(\"Enter the selling price: \"))\n",
    "revanue = selling_price - cost_price\n",
    "if revanue > 0:\n",
    "    print('You have profit of: ', revanue)\n",
    "else:\n",
    "    print('You have loss of: ', abs(revanue))"
   ]
  },
  {
   "cell_type": "markdown",
   "metadata": {},
   "source": [
    "Question#11:<br>\n",
    "Write a program to find the simple interest when the value of\n",
    "principle,rate of interest and time period is given."
   ]
  },
  {
   "cell_type": "code",
   "execution_count": 1,
   "metadata": {},
   "outputs": [
    {
     "name": "stdout",
     "output_type": "stream",
     "text": [
      "The interest is: 50.0.\n"
     ]
    }
   ],
   "source": [
    "# Simple Interst = (Principal × Rate × Time)/100\n",
    "# Compound Interst. = Principal (1 + Rate)Time − Principal\n",
    "principle = float(input(\"Enter the principle: \"))\n",
    "rate = float(input(\"Enter the rate: \"))\n",
    "time_period = int(input(\"Enter the time period: \"))\n",
    "Simple_interst = (principle * rate * time_period)/100\n",
    "print(f'The interest is: {Simple_interst}.')"
   ]
  },
  {
   "cell_type": "markdown",
   "metadata": {},
   "source": [
    "Question#12:<br>\n",
    "Write a program to find the volume of the cylinder. Also find the\n",
    "cost when ,when the cost of 1litre milk is 40Rs."
   ]
  },
  {
   "cell_type": "code",
   "execution_count": 2,
   "metadata": {},
   "outputs": [
    {
     "name": "stdout",
     "output_type": "stream",
     "text": [
      "The volume of cylinder is: 90.47786842338604.\n",
      "The cost of 10.0 liter of milk is: 400.0Rs.\n"
     ]
    }
   ],
   "source": [
    "# V=π*r**2*h\n",
    "import math\n",
    "radius = float(input(\"Enter the radius: \"))\n",
    "height = float(input(\"Enter the height: \"))\n",
    "volume = math.pi * radius**2 * height\n",
    "print(f'The volume of cylinder is: {volume}.')\n",
    "\n",
    "milk_in_liter = float(input(\"Enter the milk in liter: \"))\n",
    "print(f'The cost of {milk_in_liter} liter of milk is: {milk_in_liter*40}Rs.')"
   ]
  },
  {
   "cell_type": "markdown",
   "metadata": {},
   "source": [
    "Question#13:<br>\n",
    "Write a program that will tell whether the given number is divisible\n",
    "by 3 & 6.\n"
   ]
  },
  {
   "cell_type": "code",
   "execution_count": 6,
   "metadata": {},
   "outputs": [
    {
     "name": "stdout",
     "output_type": "stream",
     "text": [
      "The number is not divisible by 3 or 6.\n"
     ]
    }
   ],
   "source": [
    "num = int(input(\"Enter the number: \"))\n",
    "if num %3 ==0:\n",
    "    print('The number is divisible by 3.')\n",
    "elif num % 6 ==0:\n",
    "    print('The number is divisible by 6.')\n",
    "else:\n",
    "    print('The number is not divisible by 3 or 6.')"
   ]
  },
  {
   "cell_type": "markdown",
   "metadata": {},
   "source": [
    "Question#14:<br>\n",
    "Write a program that will determine weather when the value of\n",
    "temperature and humidity is provided by the user.<br>\n",
    "TEMPERATURE(C) HUMIDITY(%)  WEATHER<br>\n",
    "    >= 30       >=90        Hot and Humid<br>\n",
    "    >= 30       < 90        Hot<br>\n",
    "    <30         >=90        Cool and Humid<br>\n",
    "    <30         < 90        Cool\n"
   ]
  },
  {
   "cell_type": "code",
   "execution_count": 7,
   "metadata": {},
   "outputs": [
    {
     "name": "stdout",
     "output_type": "stream",
     "text": [
      "Hot weather.\n"
     ]
    }
   ],
   "source": [
    "temp = float(input(\"Enter the temperature in celcius: \"))\n",
    "humidity = float(input(\"Enter the humidity in %: \"))\n",
    "if temp >=30 and humidity >=90:\n",
    "    print('Hot and humid weather.')\n",
    "elif temp >=30 and humidity <90:\n",
    "    print('Hot weather.')\n",
    "elif temp <30 and humidity >=90:\n",
    "    print('Cool and Humid weather.')\n",
    "elif temp <30 and humidity <90:\n",
    "    print('Cool weather.')\n"
   ]
  },
  {
   "cell_type": "markdown",
   "metadata": {},
   "source": [
    "Question#15:<br>\n",
    "Write a program that will take three digits from the user and add\n",
    "the square of each digit."
   ]
  },
  {
   "cell_type": "code",
   "execution_count": 8,
   "metadata": {},
   "outputs": [
    {
     "name": "stdout",
     "output_type": "stream",
     "text": [
      "The Sum of the squares of the numbers is:29.\n"
     ]
    }
   ],
   "source": [
    "num1 = int(input(\"Enter the number 1: \"))\n",
    "num2 = int(input(\"Enter the number 2: \"))\n",
    "num3 = int(input(\"Enter the number 3: \"))\n",
    "\n",
    "result = num1**2 + num2**2 + num3**2\n",
    "print(f'The Sum of the squares of the numbers is:{result}.')"
   ]
  },
  {
   "cell_type": "markdown",
   "metadata": {},
   "source": [
    "Question#16:<br>\n",
    "Write a program that will check whether the number is armstrong\n",
    "number or not."
   ]
  },
  {
   "cell_type": "code",
   "execution_count": 20,
   "metadata": {},
   "outputs": [
    {
     "name": "stdout",
     "output_type": "stream",
     "text": [
      "The number is not Armstrong.\n"
     ]
    }
   ],
   "source": [
    "'''\n",
    "What is an Armstrong number give example?\n",
    "An Armstrong number is one whose sum of digits raised to the power three equals \n",
    "the number itself. \n",
    "371, for example, is an Armstrong number because 3**3 + 7**3 + 1**3 = 371.\n",
    "'''\n",
    "num = input(\"Enter the number: \")\n",
    "L = [int(i) for i in num]\n",
    "# print(L)\n",
    "if sum(i**3 for i in L) == int(num):\n",
    "    print('The number is Armstrong.')\n",
    "else:\n",
    "    print('The number is not Armstrong.')"
   ]
  },
  {
   "cell_type": "markdown",
   "metadata": {},
   "source": [
    "Question#17:<br>\n",
    "Write a program that will take user input of (4 digits number) and\n",
    "check whether the number is narcissist number or not."
   ]
  },
  {
   "cell_type": "code",
   "execution_count": 19,
   "metadata": {},
   "outputs": [
    {
     "name": "stdout",
     "output_type": "stream",
     "text": [
      "The number is narcissistic.\n"
     ]
    }
   ],
   "source": [
    "'''\n",
    "Note:Narcissistic Number is a number that is the sum of its own digits each raised \n",
    "to the power of the number of digits(length of digits).\n",
    "1634 = 1**4 + 6**4 + 3**4 + 4**4\n",
    "'''\n",
    "num = input(\"Enter the number: \")\n",
    "if sum(int(i)**len(num) for i in num) == int(num):\n",
    "    print('The number is narcissistic.')\n",
    "else:\n",
    "    print('The number is not narcissistic.')"
   ]
  },
  {
   "cell_type": "markdown",
   "metadata": {},
   "source": [
    "Question#18<br>\n",
    "Write a program that will give you the in hand salary after\n",
    "deduction of HRA(10%),DA(5%),PF(3%), and tax(if salary is between\n",
    "5-10 lakh–10%),(11-20lakh–20%),(20< _ – 30%)(0-1lakh print k)."
   ]
  },
  {
   "cell_type": "code",
   "execution_count": null,
   "metadata": {},
   "outputs": [],
   "source": []
  },
  {
   "cell_type": "markdown",
   "metadata": {},
   "source": [
    "Question#19:<br>\n",
    "Write a menu driven program - 1.cm to ft 2.km to miles 3.usd to pkr\n",
    "4.exit\n"
   ]
  },
  {
   "cell_type": "code",
   "execution_count": 1,
   "metadata": {},
   "outputs": [
    {
     "name": "stdout",
     "output_type": "stream",
     "text": [
      "\n",
      "    1. Cm to Ft\n",
      "    2. Km to Miles\n",
      "    3. Usd to Pkr\n",
      "    4. Exit\n",
      "    \n",
      "10.0 usd is 2275.9 pkr.\n",
      "\n",
      "    1. Cm to Ft\n",
      "    2. Km to Miles\n",
      "    3. Usd to Pkr\n",
      "    4. Exit\n",
      "    \n",
      "12.3 cm is 0.4035433070866142 ft.\n",
      "\n",
      "    1. Cm to Ft\n",
      "    2. Km to Miles\n",
      "    3. Usd to Pkr\n",
      "    4. Exit\n",
      "    \n",
      "Thank you.\n"
     ]
    }
   ],
   "source": [
    "def cm_to_ft(cm):\n",
    "    ft = cm / 30.48\n",
    "    return ft\n",
    "def km_to_miles(km):\n",
    "    miles = km / 1.609\n",
    "    return miles\n",
    "def usd_to_pkr(usd):\n",
    "    pkr = usd * 227.59\n",
    "    return pkr\n",
    "\n",
    "while True:\n",
    "    s = '''\n",
    "    1. Cm to Ft\n",
    "    2. Km to Miles\n",
    "    3. Usd to Pkr\n",
    "    4. Exit\n",
    "    '''\n",
    "    print(s)\n",
    "    option = int(input(\"Enter your option: \"))\n",
    "    if option == 1:\n",
    "        cm = float(input(\"Enter the value in cm: \"))\n",
    "        print(f'{cm} cm is {cm_to_ft(cm)} ft.')\n",
    "    elif option == 2:\n",
    "        km = float(input(\"Enter the value in km: \"))\n",
    "        print(f'{km} km is {km_to_miles(km)} miles.')\n",
    "    elif option == 3:\n",
    "        pkr = float(input(\"Enter the value in usd: \"))\n",
    "        print(f'{pkr} usd is {usd_to_pkr(pkr)} pkr.')\n",
    "    elif option == 4:\n",
    "        print(\"Thank you.\")\n",
    "        break\n",
    "    else:\n",
    "        print(\"Invalid option.\")"
   ]
  },
  {
   "cell_type": "markdown",
   "metadata": {},
   "source": [
    "Question#20:<br>\n",
    "Write a program that will tell the number of dogs and chicken\n",
    "are there when the user will provide the value of total heads and\n",
    "legs."
   ]
  },
  {
   "cell_type": "code",
   "execution_count": null,
   "metadata": {},
   "outputs": [],
   "source": []
  },
  {
   "cell_type": "markdown",
   "metadata": {},
   "source": [
    "Question#21:<br>\n",
    "Write a program that will swap numbers"
   ]
  },
  {
   "cell_type": "code",
   "execution_count": 2,
   "metadata": {},
   "outputs": [
    {
     "name": "stdout",
     "output_type": "stream",
     "text": [
      "Before swapping: 5 and 3.\n",
      "After swapping: 3 and 5.\n"
     ]
    }
   ],
   "source": [
    "n1 = int(input(\"Enter first number: \"))\n",
    "n2 = int(input(\"Enter second number: \"))\n",
    "print(f\"Before swapping: {n1} and {n2}.\")\n",
    "n1, n2 = n2, n1\n",
    "print(f'After swapping: {n1} and {n2}.')"
   ]
  },
  {
   "cell_type": "markdown",
   "metadata": {},
   "source": [
    "Question#22:<br>\n",
    "Write a program to find the sum of first n numbers, where n will be\n",
    "provided by the user. Eg if the user provides n=10 the output should be\n",
    "55."
   ]
  },
  {
   "cell_type": "code",
   "execution_count": 3,
   "metadata": {},
   "outputs": [
    {
     "name": "stdout",
     "output_type": "stream",
     "text": [
      "55\n"
     ]
    }
   ],
   "source": [
    "def sum_to_n(num):\n",
    "    s = 0\n",
    "    for i in range(1, num+1):\n",
    "        s += i\n",
    "    return s\n",
    "n = int(input(\"Enter the number: \"))\n",
    "print(sum_to_n(n))"
   ]
  },
  {
   "cell_type": "markdown",
   "metadata": {},
   "source": [
    "Question#23:<br>\n",
    "Write a program that can multiply 2 numbers provided by the user\n",
    "without using the * operator\n"
   ]
  },
  {
   "cell_type": "code",
   "execution_count": 5,
   "metadata": {},
   "outputs": [
    {
     "name": "stdout",
     "output_type": "stream",
     "text": [
      "The multiplication of 5 and 3 withot * is: 15.\n"
     ]
    }
   ],
   "source": [
    "from numpy import multiply\n",
    "\n",
    "\n",
    "n1 = int(input('Enter the first number: '))\n",
    "n2 = int(input('Enter the second number: '))\n",
    "print(f'The multiplication of {n1} and {n2} withot * is: {multiply(n1,n2)}.')"
   ]
  },
  {
   "cell_type": "code",
   "execution_count": 6,
   "metadata": {},
   "outputs": [
    {
     "name": "stdout",
     "output_type": "stream",
     "text": [
      "4\n"
     ]
    }
   ],
   "source": [
    "def multiply(n1,n2):\n",
    "    if n2 == 0:\n",
    "        return 0\n",
    "    if n2 > 0:\n",
    "        return n1 + multiply(n1,n2-1)\n",
    "    if n2 < 0:\n",
    "        return -n1 + multiply(n1,n2+1)\n",
    "\n",
    "n1 = int(input('Enter the first number: '))\n",
    "n2 = int(input('Enter the second number: '))\n",
    "print(multiply(n1,n2))"
   ]
  },
  {
   "cell_type": "markdown",
   "metadata": {},
   "source": [
    "Question#24:<br>\n",
    ".Write a program that can find the factorial of a given number provided\n",
    "by the user."
   ]
  },
  {
   "cell_type": "code",
   "execution_count": 8,
   "metadata": {},
   "outputs": [
    {
     "name": "stdout",
     "output_type": "stream",
     "text": [
      "The 5 factorial is: 120.\n"
     ]
    }
   ],
   "source": [
    "def fac(num):\n",
    "    fact = 1\n",
    "    for i in range(1, num+1):\n",
    "        fact*=i\n",
    "    return fact\n",
    "num = int(input(\"Enter the number: \"))\n",
    "print(f'The {num} factorial is: {fac(num)}.')"
   ]
  },
  {
   "cell_type": "code",
   "execution_count": 11,
   "metadata": {},
   "outputs": [
    {
     "name": "stdout",
     "output_type": "stream",
     "text": [
      "The 5 factorial is: 120.\n"
     ]
    }
   ],
   "source": [
    "def fac(num):\n",
    "    if num == 0:\n",
    "        return 1\n",
    "    elif num > 0:\n",
    "        return num * fac(num-1)\n",
    "num = int(input(\"Enter the number: \"))\n",
    "print(f'The {num} factorial is: {fac(num)}.')"
   ]
  },
  {
   "cell_type": "markdown",
   "metadata": {},
   "source": [
    "Question#25:<br>\n",
    "Write a program to print the first 25 odd numbers\n"
   ]
  },
  {
   "cell_type": "code",
   "execution_count": 12,
   "metadata": {},
   "outputs": [
    {
     "name": "stdout",
     "output_type": "stream",
     "text": [
      "1\n",
      "3\n",
      "5\n",
      "7\n",
      "9\n",
      "11\n",
      "13\n",
      "15\n",
      "17\n",
      "19\n",
      "21\n",
      "23\n",
      "25\n",
      "27\n",
      "29\n",
      "31\n",
      "33\n",
      "35\n",
      "37\n",
      "39\n",
      "41\n",
      "43\n",
      "45\n",
      "47\n",
      "49\n"
     ]
    }
   ],
   "source": [
    "flag = 0\n",
    "i = 1\n",
    "while True:\n",
    "    if i%2 != 0:\n",
    "        print(i)\n",
    "        flag += 1\n",
    "    if flag == 25:\n",
    "        break\n",
    "    i+=1"
   ]
  },
  {
   "cell_type": "markdown",
   "metadata": {},
   "source": [
    "Question#26:<br>\n",
    "Write a program to print whether a given number is prime number or\n",
    "not"
   ]
  },
  {
   "cell_type": "code",
   "execution_count": 25,
   "metadata": {},
   "outputs": [
    {
     "name": "stdout",
     "output_type": "stream",
     "text": [
      "3 is a prime number.\n"
     ]
    }
   ],
   "source": [
    "def prime_no(num):\n",
    "    flag = False\n",
    "    for i in range(2, num):\n",
    "        if num%i == 0:\n",
    "            flag = True\n",
    "            break\n",
    "        else:\n",
    "            flag = False\n",
    "    return flag\n",
    "\n",
    "n = int(input(\"Enter the number: \"))\n",
    "x= prime_no(n)\n",
    "if x == True:\n",
    "    print(f'{n} is not a prime number.')\n",
    "else:\n",
    "    print(f'{n} is a prime number.')"
   ]
  },
  {
   "cell_type": "code",
   "execution_count": null,
   "metadata": {},
   "outputs": [],
   "source": []
  }
 ],
 "metadata": {
  "kernelspec": {
   "display_name": "Python 3.10.4 ('datascience')",
   "language": "python",
   "name": "python3"
  },
  "language_info": {
   "codemirror_mode": {
    "name": "ipython",
    "version": 3
   },
   "file_extension": ".py",
   "mimetype": "text/x-python",
   "name": "python",
   "nbconvert_exporter": "python",
   "pygments_lexer": "ipython3",
   "version": "3.10.4"
  },
  "orig_nbformat": 4,
  "vscode": {
   "interpreter": {
    "hash": "564188844b4e61afb68fe96a2f3da83067766dd0e5b45b54ea128c5a4a0d04c0"
   }
  }
 },
 "nbformat": 4,
 "nbformat_minor": 2
}
