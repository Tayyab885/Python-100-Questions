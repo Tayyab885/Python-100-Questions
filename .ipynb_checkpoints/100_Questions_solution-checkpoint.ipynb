{
 "cells": [
  {
   "cell_type": "markdown",
   "metadata": {},
   "source": [
    "Question#1:<br>\n",
    "User will input (3ages).Find the oldest one"
   ]
  },
  {
   "cell_type": "code",
   "execution_count": 1,
   "metadata": {},
   "outputs": [
    {
     "name": "stdout",
     "output_type": "stream",
     "text": [
      "The oldest one is:  23456\n"
     ]
    }
   ],
   "source": [
    "\n",
    "age1 = int(input('Enter 1st age: '))\n",
    "age2 = int(input('Enter 2nd age: '))\n",
    "age3 = int(input('Enter 3rd age: '))\n",
    "\n",
    "# maximum = age1\n",
    "# if age2 > maximum:\n",
    "#     maximum = age2\n",
    "# elif age3 > maximum:\n",
    "#     maximum = age3  \n",
    "# print('The oldest one is: ', maximum)\n",
    "\n",
    "ages = list((age1, age2, age3))\n",
    "print('The oldest one is: ', max(ages))"
   ]
  },
  {
   "cell_type": "markdown",
   "metadata": {},
   "source": [
    "Question#2:<br>\n",
    "Write a program that will convert celsius value to fahrenheit"
   ]
  },
  {
   "cell_type": "code",
   "execution_count": 2,
   "metadata": {},
   "outputs": [
    {
     "name": "stdout",
     "output_type": "stream",
     "text": [
      "The temp in fahrenheit is: 100.4.\n"
     ]
    }
   ],
   "source": [
    "temp = float(input('Enter the temp in celcius: '))\n",
    "cel_to_fer = (temp *9/5) +32\n",
    "print(f'The temp in fahrenheit is: {cel_to_fer}.')"
   ]
  },
  {
   "cell_type": "markdown",
   "metadata": {},
   "source": [
    "Question#3:<br>\n",
    "User will input (2numbers).Write a program to swap the numbers"
   ]
  },
  {
   "cell_type": "code",
   "execution_count": 4,
   "metadata": {},
   "outputs": [
    {
     "name": "stdout",
     "output_type": "stream",
     "text": [
      "The numbers are: 32, 12.\n"
     ]
    }
   ],
   "source": [
    "num1 = int(input('Enter 1st number: '))\n",
    "num2 = int(input('Enter 2nd number: '))\n",
    "# temp = num1\n",
    "# num1 = num2\n",
    "# num2 = temp\n",
    "num1,num2 = num2,num1\n",
    "print(f'The numbers are: {num1}, {num2}.')\n",
    "\n"
   ]
  },
  {
   "cell_type": "markdown",
   "metadata": {},
   "source": [
    "Question#4:<br>\n",
    "Write a program that will give you the sum of 3 digits"
   ]
  },
  {
   "cell_type": "code",
   "execution_count": 6,
   "metadata": {},
   "outputs": [
    {
     "name": "stdout",
     "output_type": "stream",
     "text": [
      "Sum of the numbers is: 7.\n"
     ]
    }
   ],
   "source": [
    "num1 = int(input('Enter 1st number: '))\n",
    "num2 = int(input('Enter 2nd number: '))\n",
    "num3 = int(input('Enter 3rd number: '))\n",
    "add = num1+num2+num3\n",
    "print(f'Sum of the numbers is: {add}.')"
   ]
  },
  {
   "cell_type": "markdown",
   "metadata": {},
   "source": [
    "Question#5:<br>\n",
    "Write a program that will reverse a four digit number.Also it checks\n",
    "whether the reverse is true.\n"
   ]
  },
  {
   "cell_type": "code",
   "execution_count": 8,
   "metadata": {},
   "outputs": [
    {
     "name": "stdout",
     "output_type": "stream",
     "text": [
      "The reverse of the number is: 4321.\n"
     ]
    }
   ],
   "source": [
    "num = input('Enter a number: ')\n",
    "print(f'The reverse of the number is: {num[::-1]}.')"
   ]
  },
  {
   "cell_type": "markdown",
   "metadata": {},
   "source": [
    "Question#6:<br>\n",
    "Write a program that will tell whether the number entered by the\n",
    "user is odd or even."
   ]
  },
  {
   "cell_type": "code",
   "execution_count": 10,
   "metadata": {},
   "outputs": [
    {
     "name": "stdout",
     "output_type": "stream",
     "text": [
      "The number 12 is even.\n"
     ]
    }
   ],
   "source": [
    "num = int(input('Enter a number: '))\n",
    "if num%2==0:\n",
    "    print(f'The number {num} is even.')\n",
    "elif num%2!=0:\n",
    "    print(f'The number {num} is odd.')"
   ]
  },
  {
   "cell_type": "markdown",
   "metadata": {},
   "source": [
    "Question#7:<br>\n",
    "Write a program that will tell whether the given year is a leap year\n",
    "or not."
   ]
  },
  {
   "cell_type": "code",
   "execution_count": 15,
   "metadata": {},
   "outputs": [
    {
     "name": "stdout",
     "output_type": "stream",
     "text": [
      "The year 2000 is a leap year.\n"
     ]
    }
   ],
   "source": [
    "year = int(input('Enter a year: '))\n",
    "if year%4==0:\n",
    "    print(f'The year {year} is a leap year.')\n",
    "elif year%100==0:\n",
    "    print(f'The year {year} is not a leap year.')\n",
    "elif year%4000==0:\n",
    "    print(f'The year {year} is a leap year.')\n"
   ]
  },
  {
   "cell_type": "markdown",
   "metadata": {},
   "source": [
    "Question#8:<br>\n",
    "Write a program to find the euclidean distance between two\n",
    "coordinates."
   ]
  },
  {
   "cell_type": "code",
   "execution_count": 2,
   "metadata": {},
   "outputs": [
    {
     "name": "stdout",
     "output_type": "stream",
     "text": [
      "The euclidean distance between 10 and 20 is: 10.0.\n"
     ]
    }
   ],
   "source": [
    "import math\n",
    "p = int(input(\"Enter the value of p: \"))\n",
    "q = int(input(\"Enter the value of q: \"))\n",
    "e_distance = math.dist([p],[q])\n",
    "print(f\"The euclidean distance between {p} and {q} is: {e_distance}.\")"
   ]
  },
  {
   "cell_type": "markdown",
   "metadata": {},
   "source": [
    "Question#9:<br>\n",
    "Write a program that take a user inputr of three angles and will\n",
    "find out whether it can form a triangle or not."
   ]
  },
  {
   "cell_type": "code",
   "execution_count": 19,
   "metadata": {},
   "outputs": [
    {
     "name": "stdout",
     "output_type": "stream",
     "text": [
      "The triangle is valid.\n"
     ]
    }
   ],
   "source": [
    "'''\n",
    "All you have to do is use the Triangle Inequality Theorem, which states that the sum of \n",
    "two side lengths of a triangle is always greater than the third side. If this is true \n",
    "for all three combinations of added side lengths, then you will have a triangle\n",
    "'''\n",
    "\n",
    "a = float(input(\"Enter the value of a: \"))\n",
    "b = float(input(\"Enter the value of b: \"))\n",
    "c = float(input(\"Enter the value of c: \"))\n",
    "if a+b>c and a+c>b and b+c>a:\n",
    "    print(\"The triangle is valid.\")\n",
    "else:\n",
    "    print(\"The triangle is invalid.\")\n",
    "    \n",
    "\n",
    "# A=int(input(\"Enter the angle\"))\n",
    "# B=int(input(\"Enter the angle\"))\n",
    "# C=int(input(\"Enter the angle\"))\n",
    "# S=A+B+C\n",
    "# if S==180:\n",
    "#     print(\"The angles form a triangle\")\n",
    "# else:\n",
    "#     print(\"The angles do not form a triangle\")"
   ]
  },
  {
   "cell_type": "markdown",
   "metadata": {},
   "source": [
    "Question#10:<br>\n",
    "Write a program that will take user input of cost price and selling\n",
    "price and determines<br>\n",
    "whether its a loss or a profit\n"
   ]
  },
  {
   "cell_type": "code",
   "execution_count": 22,
   "metadata": {},
   "outputs": [
    {
     "name": "stdout",
     "output_type": "stream",
     "text": [
      "You have loss of:  3000.0\n"
     ]
    }
   ],
   "source": [
    "cost_price = float(input(\"Enter the cost price: \"))\n",
    "selling_price = float(input(\"Enter the selling price: \"))\n",
    "revanue = selling_price - cost_price\n",
    "if revanue > 0:\n",
    "    print('You have profit of: ', revanue)\n",
    "else:\n",
    "    print('You have loss of: ', abs(revanue))"
   ]
  },
  {
   "cell_type": "markdown",
   "metadata": {},
   "source": [
    "Question#11:<br>\n",
    "Write a program to find the simple interest when the value of\n",
    "principle,rate of interest and time period is given."
   ]
  },
  {
   "cell_type": "code",
   "execution_count": 1,
   "metadata": {},
   "outputs": [
    {
     "name": "stdout",
     "output_type": "stream",
     "text": [
      "The interest is: 50.0.\n"
     ]
    }
   ],
   "source": [
    "# Simple Interst = (Principal × Rate × Time)/100\n",
    "# Compound Interst. = Principal (1 + Rate)Time − Principal\n",
    "principle = float(input(\"Enter the principle: \"))\n",
    "rate = float(input(\"Enter the rate: \"))\n",
    "time_period = int(input(\"Enter the time period: \"))\n",
    "Simple_interst = (principle * rate * time_period)/100\n",
    "print(f'The interest is: {Simple_interst}.')"
   ]
  },
  {
   "cell_type": "markdown",
   "metadata": {},
   "source": [
    "Question#12:<br>\n",
    "Write a program to find the volume of the cylinder. Also find the\n",
    "cost when ,when the cost of 1litre milk is 40Rs."
   ]
  },
  {
   "cell_type": "code",
   "execution_count": 2,
   "metadata": {},
   "outputs": [
    {
     "name": "stdout",
     "output_type": "stream",
     "text": [
      "The volume of cylinder is: 90.47786842338604.\n",
      "The cost of 10.0 liter of milk is: 400.0Rs.\n"
     ]
    }
   ],
   "source": [
    "# V=π*r**2*h\n",
    "import math\n",
    "radius = float(input(\"Enter the radius: \"))\n",
    "height = float(input(\"Enter the height: \"))\n",
    "volume = math.pi * radius**2 * height\n",
    "print(f'The volume of cylinder is: {volume}.')\n",
    "\n",
    "milk_in_liter = float(input(\"Enter the milk in liter: \"))\n",
    "print(f'The cost of {milk_in_liter} liter of milk is: {milk_in_liter*40}Rs.')"
   ]
  },
  {
   "cell_type": "markdown",
   "metadata": {},
   "source": [
    "Question#13:<br>\n",
    "Write a program that will tell whether the given number is divisible\n",
    "by 3 & 6.\n"
   ]
  },
  {
   "cell_type": "code",
   "execution_count": 6,
   "metadata": {},
   "outputs": [
    {
     "name": "stdout",
     "output_type": "stream",
     "text": [
      "The number is not divisible by 3 or 6.\n"
     ]
    }
   ],
   "source": [
    "num = int(input(\"Enter the number: \"))\n",
    "if num %3 ==0:\n",
    "    print('The number is divisible by 3.')\n",
    "elif num % 6 ==0:\n",
    "    print('The number is divisible by 6.')\n",
    "else:\n",
    "    print('The number is not divisible by 3 or 6.')"
   ]
  },
  {
   "cell_type": "markdown",
   "metadata": {},
   "source": [
    "Question#14:<br>\n",
    "Write a program that will determine weather when the value of\n",
    "temperature and humidity is provided by the user.<br>\n",
    "TEMPERATURE(C) HUMIDITY(%)  WEATHER<br>\n",
    "    >= 30       >=90        Hot and Humid<br>\n",
    "    >= 30       < 90        Hot<br>\n",
    "    <30         >=90        Cool and Humid<br>\n",
    "    <30         < 90        Cool\n"
   ]
  },
  {
   "cell_type": "code",
   "execution_count": 7,
   "metadata": {},
   "outputs": [
    {
     "name": "stdout",
     "output_type": "stream",
     "text": [
      "Hot weather.\n"
     ]
    }
   ],
   "source": [
    "temp = float(input(\"Enter the temperature in celcius: \"))\n",
    "humidity = float(input(\"Enter the humidity in %: \"))\n",
    "if temp >=30 and humidity >=90:\n",
    "    print('Hot and humid weather.')\n",
    "elif temp >=30 and humidity <90:\n",
    "    print('Hot weather.')\n",
    "elif temp <30 and humidity >=90:\n",
    "    print('Cool and Humid weather.')\n",
    "elif temp <30 and humidity <90:\n",
    "    print('Cool weather.')\n"
   ]
  },
  {
   "cell_type": "markdown",
   "metadata": {},
   "source": [
    "Question#15:<br>\n",
    "Write a program that will take three digits from the user and add\n",
    "the square of each digit."
   ]
  },
  {
   "cell_type": "code",
   "execution_count": 8,
   "metadata": {},
   "outputs": [
    {
     "name": "stdout",
     "output_type": "stream",
     "text": [
      "The Sum of the squares of the numbers is:29.\n"
     ]
    }
   ],
   "source": [
    "num1 = int(input(\"Enter the number 1: \"))\n",
    "num2 = int(input(\"Enter the number 2: \"))\n",
    "num3 = int(input(\"Enter the number 3: \"))\n",
    "\n",
    "result = num1**2 + num2**2 + num3**2\n",
    "print(f'The Sum of the squares of the numbers is:{result}.')"
   ]
  },
  {
   "cell_type": "markdown",
   "metadata": {},
   "source": [
    "Question#16:<br>\n",
    "Write a program that will check whether the number is armstrong\n",
    "number or not."
   ]
  },
  {
   "cell_type": "code",
   "execution_count": 20,
   "metadata": {},
   "outputs": [
    {
     "name": "stdout",
     "output_type": "stream",
     "text": [
      "The number is not Armstrong.\n"
     ]
    }
   ],
   "source": [
    "'''\n",
    "What is an Armstrong number give example?\n",
    "An Armstrong number is one whose sum of digits raised to the power three equals \n",
    "the number itself. \n",
    "371, for example, is an Armstrong number because 3**3 + 7**3 + 1**3 = 371.\n",
    "'''\n",
    "num = input(\"Enter the number: \")\n",
    "L = [int(i) for i in num]\n",
    "# print(L)\n",
    "if sum(i**3 for i in L) == int(num):\n",
    "    print('The number is Armstrong.')\n",
    "else:\n",
    "    print('The number is not Armstrong.')"
   ]
  },
  {
   "cell_type": "markdown",
   "metadata": {},
   "source": [
    "Question#17:<br>\n",
    "Write a program that will take user input of (4 digits number) and\n",
    "check whether the number is narcissist number or not."
   ]
  },
  {
   "cell_type": "code",
   "execution_count": 19,
   "metadata": {},
   "outputs": [
    {
     "name": "stdout",
     "output_type": "stream",
     "text": [
      "The number is narcissistic.\n"
     ]
    }
   ],
   "source": [
    "'''\n",
    "Note:Narcissistic Number is a number that is the sum of its own digits each raised \n",
    "to the power of the number of digits(length of digits).\n",
    "1634 = 1**4 + 6**4 + 3**4 + 4**4\n",
    "'''\n",
    "num = input(\"Enter the number: \")\n",
    "if sum(int(i)**len(num) for i in num) == int(num):\n",
    "    print('The number is narcissistic.')\n",
    "else:\n",
    "    print('The number is not narcissistic.')"
   ]
  },
  {
   "cell_type": "markdown",
   "metadata": {},
   "source": [
    "Question#18<br>\n",
    "Write a program that will give you the in hand salary after\n",
    "deduction of HRA(10%),DA(5%),PF(3%), and tax(if salary is between\n",
    "5-10 lakh–10%),(11-20lakh–20%),(20< _ – 30%)(0-1lakh print k)."
   ]
  },
  {
   "cell_type": "code",
   "execution_count": null,
   "metadata": {},
   "outputs": [],
   "source": []
  },
  {
   "cell_type": "markdown",
   "metadata": {},
   "source": [
    "Question#19:<br>\n",
    "Write a menu driven program - 1.cm to ft 2.km to miles 3.usd to pkr\n",
    "4.exit\n"
   ]
  },
  {
   "cell_type": "code",
   "execution_count": 1,
   "metadata": {},
   "outputs": [
    {
     "name": "stdout",
     "output_type": "stream",
     "text": [
      "\n",
      "    1. Cm to Ft\n",
      "    2. Km to Miles\n",
      "    3. Usd to Pkr\n",
      "    4. Exit\n",
      "    \n",
      "10.0 usd is 2275.9 pkr.\n",
      "\n",
      "    1. Cm to Ft\n",
      "    2. Km to Miles\n",
      "    3. Usd to Pkr\n",
      "    4. Exit\n",
      "    \n",
      "12.3 cm is 0.4035433070866142 ft.\n",
      "\n",
      "    1. Cm to Ft\n",
      "    2. Km to Miles\n",
      "    3. Usd to Pkr\n",
      "    4. Exit\n",
      "    \n",
      "Thank you.\n"
     ]
    }
   ],
   "source": [
    "def cm_to_ft(cm):\n",
    "    ft = cm / 30.48\n",
    "    return ft\n",
    "def km_to_miles(km):\n",
    "    miles = km / 1.609\n",
    "    return miles\n",
    "def usd_to_pkr(usd):\n",
    "    pkr = usd * 227.59\n",
    "    return pkr\n",
    "\n",
    "while True:\n",
    "    s = '''\n",
    "    1. Cm to Ft\n",
    "    2. Km to Miles\n",
    "    3. Usd to Pkr\n",
    "    4. Exit\n",
    "    '''\n",
    "    print(s)\n",
    "    option = int(input(\"Enter your option: \"))\n",
    "    if option == 1:\n",
    "        cm = float(input(\"Enter the value in cm: \"))\n",
    "        print(f'{cm} cm is {cm_to_ft(cm)} ft.')\n",
    "    elif option == 2:\n",
    "        km = float(input(\"Enter the value in km: \"))\n",
    "        print(f'{km} km is {km_to_miles(km)} miles.')\n",
    "    elif option == 3:\n",
    "        pkr = float(input(\"Enter the value in usd: \"))\n",
    "        print(f'{pkr} usd is {usd_to_pkr(pkr)} pkr.')\n",
    "    elif option == 4:\n",
    "        print(\"Thank you.\")\n",
    "        break\n",
    "    else:\n",
    "        print(\"Invalid option.\")"
   ]
  },
  {
   "cell_type": "markdown",
   "metadata": {},
   "source": [
    "Question#20:<br>\n",
    "Write a program that will tell the number of dogs and chicken\n",
    "are there when the user will provide the value of total heads and\n",
    "legs."
   ]
  },
  {
   "cell_type": "code",
   "execution_count": null,
   "metadata": {},
   "outputs": [],
   "source": []
  },
  {
   "cell_type": "markdown",
   "metadata": {},
   "source": [
    "Question#21:<br>\n",
    "Write a program that will swap numbers"
   ]
  },
  {
   "cell_type": "code",
   "execution_count": 2,
   "metadata": {},
   "outputs": [
    {
     "name": "stdout",
     "output_type": "stream",
     "text": [
      "Before swapping: 5 and 3.\n",
      "After swapping: 3 and 5.\n"
     ]
    }
   ],
   "source": [
    "n1 = int(input(\"Enter first number: \"))\n",
    "n2 = int(input(\"Enter second number: \"))\n",
    "print(f\"Before swapping: {n1} and {n2}.\")\n",
    "n1, n2 = n2, n1\n",
    "print(f'After swapping: {n1} and {n2}.')"
   ]
  },
  {
   "cell_type": "markdown",
   "metadata": {},
   "source": [
    "Question#22:<br>\n",
    "Write a program to find the sum of first n numbers, where n will be\n",
    "provided by the user. Eg if the user provides n=10 the output should be\n",
    "55."
   ]
  },
  {
   "cell_type": "code",
   "execution_count": 3,
   "metadata": {},
   "outputs": [
    {
     "name": "stdout",
     "output_type": "stream",
     "text": [
      "55\n"
     ]
    }
   ],
   "source": [
    "def sum_to_n(num):\n",
    "    s = 0\n",
    "    for i in range(1, num+1):\n",
    "        s += i\n",
    "    return s\n",
    "n = int(input(\"Enter the number: \"))\n",
    "print(sum_to_n(n))"
   ]
  },
  {
   "cell_type": "markdown",
   "metadata": {},
   "source": [
    "Question#23:<br>\n",
    "Write a program that can multiply 2 numbers provided by the user\n",
    "without using the * operator\n"
   ]
  },
  {
   "cell_type": "code",
   "execution_count": 5,
   "metadata": {},
   "outputs": [
    {
     "name": "stdout",
     "output_type": "stream",
     "text": [
      "The multiplication of 5 and 3 withot * is: 15.\n"
     ]
    }
   ],
   "source": [
    "from numpy import multiply\n",
    "\n",
    "\n",
    "n1 = int(input('Enter the first number: '))\n",
    "n2 = int(input('Enter the second number: '))\n",
    "print(f'The multiplication of {n1} and {n2} withot * is: {multiply(n1,n2)}.')"
   ]
  },
  {
   "cell_type": "code",
   "execution_count": 6,
   "metadata": {},
   "outputs": [
    {
     "name": "stdout",
     "output_type": "stream",
     "text": [
      "4\n"
     ]
    }
   ],
   "source": [
    "def multiply(n1,n2):\n",
    "    if n2 == 0:\n",
    "        return 0\n",
    "    if n2 > 0:\n",
    "        return n1 + multiply(n1,n2-1)\n",
    "    if n2 < 0:\n",
    "        return -n1 + multiply(n1,n2+1)\n",
    "\n",
    "n1 = int(input('Enter the first number: '))\n",
    "n2 = int(input('Enter the second number: '))\n",
    "print(multiply(n1,n2))"
   ]
  },
  {
   "cell_type": "markdown",
   "metadata": {},
   "source": [
    "Question#24:<br>\n",
    ".Write a program that can find the factorial of a given number provided\n",
    "by the user."
   ]
  },
  {
   "cell_type": "code",
   "execution_count": 8,
   "metadata": {},
   "outputs": [
    {
     "name": "stdout",
     "output_type": "stream",
     "text": [
      "The 5 factorial is: 120.\n"
     ]
    }
   ],
   "source": [
    "def fac(num):\n",
    "    fact = 1\n",
    "    for i in range(1, num+1):\n",
    "        fact*=i\n",
    "    return fact\n",
    "num = int(input(\"Enter the number: \"))\n",
    "print(f'The {num} factorial is: {fac(num)}.')"
   ]
  },
  {
   "cell_type": "code",
   "execution_count": 11,
   "metadata": {},
   "outputs": [
    {
     "name": "stdout",
     "output_type": "stream",
     "text": [
      "The 5 factorial is: 120.\n"
     ]
    }
   ],
   "source": [
    "def fac(num):\n",
    "    if num == 0:\n",
    "        return 1\n",
    "    elif num > 0:\n",
    "        return num * fac(num-1)\n",
    "num = int(input(\"Enter the number: \"))\n",
    "print(f'The {num} factorial is: {fac(num)}.')"
   ]
  },
  {
   "cell_type": "markdown",
   "metadata": {},
   "source": [
    "Question#25:<br>\n",
    "Write a program to print the first 25 odd numbers\n"
   ]
  },
  {
   "cell_type": "code",
   "execution_count": 8,
   "metadata": {},
   "outputs": [
    {
     "data": {
      "text/plain": [
       "[1,\n",
       " 3,\n",
       " 5,\n",
       " 7,\n",
       " 9,\n",
       " 11,\n",
       " 13,\n",
       " 15,\n",
       " 17,\n",
       " 19,\n",
       " 21,\n",
       " 23,\n",
       " 25,\n",
       " 27,\n",
       " 29,\n",
       " 31,\n",
       " 33,\n",
       " 35,\n",
       " 37,\n",
       " 39,\n",
       " 41,\n",
       " 43,\n",
       " 45,\n",
       " 47,\n",
       " 49]"
      ]
     },
     "execution_count": 8,
     "metadata": {},
     "output_type": "execute_result"
    }
   ],
   "source": [
    "def first_25_odd():\n",
    "    odd = []\n",
    "    for i in range(1,51):\n",
    "        if i%2 != 0:\n",
    "            odd.append(i)\n",
    "    return odd\n",
    "first_25_odd()"
   ]
  },
  {
   "cell_type": "code",
   "execution_count": 12,
   "metadata": {},
   "outputs": [
    {
     "name": "stdout",
     "output_type": "stream",
     "text": [
      "1\n",
      "3\n",
      "5\n",
      "7\n",
      "9\n",
      "11\n",
      "13\n",
      "15\n",
      "17\n",
      "19\n",
      "21\n",
      "23\n",
      "25\n",
      "27\n",
      "29\n",
      "31\n",
      "33\n",
      "35\n",
      "37\n",
      "39\n",
      "41\n",
      "43\n",
      "45\n",
      "47\n",
      "49\n"
     ]
    }
   ],
   "source": [
    "flag = 0\n",
    "i = 1\n",
    "while True:\n",
    "    if i%2 != 0:\n",
    "        print(i)\n",
    "        flag += 1\n",
    "    if flag == 25:\n",
    "        break\n",
    "    i+=1"
   ]
  },
  {
   "cell_type": "markdown",
   "metadata": {},
   "source": [
    "Question#26:<br>\n",
    "Write a program to print whether a given number is prime number or\n",
    "not"
   ]
  },
  {
   "cell_type": "code",
   "execution_count": 25,
   "metadata": {},
   "outputs": [
    {
     "name": "stdout",
     "output_type": "stream",
     "text": [
      "3 is a prime number.\n"
     ]
    }
   ],
   "source": [
    "def prime_no(num):\n",
    "    flag = False\n",
    "    for i in range(2, num):\n",
    "        if num%i == 0:\n",
    "            flag = True\n",
    "            break\n",
    "        else:\n",
    "            flag = False\n",
    "    return flag\n",
    "\n",
    "n = int(input(\"Enter the number: \"))\n",
    "x= prime_no(n)\n",
    "if x == True:\n",
    "    print(f'{n} is not a prime number.')\n",
    "else:\n",
    "    print(f'{n} is a prime number.')"
   ]
  },
  {
   "cell_type": "markdown",
   "metadata": {},
   "source": [
    "Question#26:<br>\n",
    "Print all the armstrong numbers in the range of 100 to 1000\n"
   ]
  },
  {
   "cell_type": "code",
   "execution_count": 12,
   "metadata": {},
   "outputs": [
    {
     "name": "stdout",
     "output_type": "stream",
     "text": [
      "153\n",
      "370\n",
      "371\n",
      "407\n"
     ]
    }
   ],
   "source": [
    "for i in range(100,1001):\n",
    "    if sum(int(n)**3 for n in str(i)) == int(i):\n",
    "        print(i)"
   ]
  },
  {
   "cell_type": "markdown",
   "metadata": {},
   "source": [
    "Question#28 <br>\n",
    "The current population of a town is 10000. The population of the town is\n",
    "increasing at the rate of 10% per year. You have to write a program to\n",
    "find out the population at the end of each of the last 10 years.<br> For eg\n",
    "current population is 10000 so the output should be like this:<br>\n",
    "10th year - 10000<br>\n",
    "9th year - 9000<br>\n",
    "8th year - 8100 and so on"
   ]
  },
  {
   "cell_type": "code",
   "execution_count": 24,
   "metadata": {},
   "outputs": [
    {
     "name": "stdout",
     "output_type": "stream",
     "text": [
      "Population in 10 year: 10000\n",
      "Population in 9 year: 9000\n",
      "Population in 8 year: 8100\n",
      "Population in 7 year: 7290\n",
      "Population in 6 year: 6561\n",
      "Population in 5 year: 5904\n",
      "Population in 4 year: 5313\n",
      "Population in 3 year: 4781\n",
      "Population in 2 year: 4302\n",
      "Population in 1 year: 3871\n"
     ]
    }
   ],
   "source": [
    "def population_inlast_10years(population,rate):\n",
    "    for i in reversed(range(1,11)):\n",
    "        print(f'Population in {i} year: {population}')\n",
    "        population = int(population - (population * rate))\n",
    "population_inlast_10years(10000,0.1)"
   ]
  },
  {
   "cell_type": "markdown",
   "metadata": {},
   "source": [
    "Question#29<br>\n",
    "Write a program to print all the unique combinations of 1,2,3 and 4\n"
   ]
  },
  {
   "cell_type": "code",
   "execution_count": 27,
   "metadata": {},
   "outputs": [
    {
     "name": "stdout",
     "output_type": "stream",
     "text": [
      "(1,)\n",
      "(2,)\n",
      "(3,)\n",
      "(4,)\n",
      "(1, 2)\n",
      "(1, 3)\n",
      "(1, 4)\n",
      "(2, 3)\n",
      "(2, 4)\n",
      "(3, 4)\n",
      "(1, 2, 3)\n",
      "(1, 2, 4)\n",
      "(1, 3, 4)\n",
      "(2, 3, 4)\n",
      "(1, 2, 3, 4)\n"
     ]
    }
   ],
   "source": [
    "import itertools\n",
    "num = [1,2,3,4]\n",
    "for i in range(1,len(num)+1):\n",
    "    for combination in itertools.combinations(num,i):\n",
    "        print(combination)"
   ]
  },
  {
   "cell_type": "markdown",
   "metadata": {},
   "source": [
    "Question#30<br>\n",
    "User will provide 2 numbers you have to find the HCF of those 2 numbers"
   ]
  },
  {
   "cell_type": "code",
   "execution_count": 28,
   "metadata": {},
   "outputs": [
    {
     "name": "stdout",
     "output_type": "stream",
     "text": [
      "The HCF of 48 and 60 is: 12.\n"
     ]
    }
   ],
   "source": [
    "def hcf(a,b):\n",
    "    while b!=0:\n",
    "        temp = b\n",
    "        b = a%b\n",
    "        a = temp\n",
    "    return a\n",
    "a = int(input(\"Enter the first number: \"))\n",
    "b = int(input(\"Enter the second number: \"))\n",
    "print(f'The HCF of {a} and {b} is: {hcf(a,b)}.')\n",
    "        "
   ]
  },
  {
   "cell_type": "code",
   "execution_count": 30,
   "metadata": {},
   "outputs": [
    {
     "name": "stdout",
     "output_type": "stream",
     "text": [
      "The HCF of 48 and 60 is: 12.\n"
     ]
    }
   ],
   "source": [
    "## Using recursion\n",
    "def hcf(a,b):\n",
    "    if b ==0:\n",
    "        return a\n",
    "    else:\n",
    "        return hcf(b,a%b)\n",
    "a = int(input(\"Enter the first number: \"))\n",
    "b = int(input(\"Enter the second number: \"))\n",
    "print(f'The HCF of {a} and {b} is: {hcf(a,b)}.')"
   ]
  },
  {
   "cell_type": "markdown",
   "metadata": {},
   "source": [
    "Question#31<br>\n",
    "User will provide 2 numbers you have to find the by LCM of those 2\n",
    "numbers"
   ]
  },
  {
   "cell_type": "code",
   "execution_count": 35,
   "metadata": {},
   "outputs": [
    {
     "name": "stdout",
     "output_type": "stream",
     "text": [
      "The LCM of 6 and 8 is: 24.\n"
     ]
    }
   ],
   "source": [
    "## Using GCD\n",
    "import math\n",
    "def lcm(a,b):\n",
    "    return (a*b)//math.gcd(a,b)\n",
    "a = int(input(\"Enter the first number: \"))\n",
    "b = int(input(\"Enter the second number: \"))\n",
    "print(f'The LCM of {a} and {b} is: {lcm(a,b)}.')"
   ]
  },
  {
   "cell_type": "code",
   "execution_count": 36,
   "metadata": {},
   "outputs": [
    {
     "name": "stdout",
     "output_type": "stream",
     "text": [
      "The LCM of 6 and 8 is: 24.\n"
     ]
    }
   ],
   "source": [
    "## Without using GCD\n",
    "def lcm(a,b):\n",
    "    ## Find the max number between a and b\n",
    "    max_num = max(a,b)\n",
    "    result = max_num\n",
    "    while True:\n",
    "        # Check if both numbers divide into the result evenly\n",
    "        if result%a==0 and result%b==0:\n",
    "            return result\n",
    "        # If they don't, increment the result by the maximum number\n",
    "        result += max_num\n",
    "a = int(input(\"Enter the first number: \"))\n",
    "b = int(input(\"Enter the second number: \"))\n",
    "print(f'The LCM of {a} and {b} is: {lcm(a,b)}.')"
   ]
  },
  {
   "cell_type": "markdown",
   "metadata": {},
   "source": [
    "Question#32<br>\n",
    "Print first 25 prime numbers"
   ]
  },
  {
   "cell_type": "code",
   "execution_count": 39,
   "metadata": {},
   "outputs": [
    {
     "name": "stdout",
     "output_type": "stream",
     "text": [
      "2\n",
      "3\n",
      "5\n",
      "7\n",
      "11\n",
      "13\n",
      "17\n",
      "19\n",
      "23\n",
      "29\n",
      "31\n",
      "37\n",
      "41\n",
      "43\n",
      "47\n",
      "53\n",
      "59\n",
      "61\n",
      "67\n",
      "71\n",
      "73\n",
      "79\n",
      "83\n",
      "89\n",
      "97\n"
     ]
    }
   ],
   "source": [
    "def prime_first25(n):\n",
    "    if n < 2:\n",
    "        return False\n",
    "    else:\n",
    "        for i in range(2,n):\n",
    "            if n%i ==0:\n",
    "                return False\n",
    "        return True\n",
    "\n",
    "count = 0\n",
    "num = 2\n",
    "while count <25:\n",
    "    if prime_first25(num):\n",
    "        print(num)\n",
    "        count += 1\n",
    "    num += 1"
   ]
  },
  {
   "cell_type": "markdown",
   "metadata": {},
   "source": [
    "Question#33<br>\n",
    "Print the first 20 numbers of a Fibonacci series."
   ]
  },
  {
   "cell_type": "code",
   "execution_count": 43,
   "metadata": {},
   "outputs": [
    {
     "name": "stdout",
     "output_type": "stream",
     "text": [
      "[0, 1, 1, 2, 3, 5, 8, 13, 21, 34, 55, 89, 144, 233, 377, 610, 987, 1597, 2584, 4181]\n"
     ]
    }
   ],
   "source": [
    "fibonacci = [0]\n",
    "a = 0\n",
    "b = 1\n",
    "for i in range(1,20):\n",
    "    a,b = b,a+b\n",
    "    fibonacci.append(a)\n",
    "print(fibonacci)"
   ]
  },
  {
   "cell_type": "code",
   "execution_count": 44,
   "metadata": {},
   "outputs": [
    {
     "name": "stdout",
     "output_type": "stream",
     "text": [
      "[0, 1, 1, 2, 3, 5, 8, 13, 21, 34, 55, 89, 144, 233, 377, 610, 987, 1597, 2584, 4181]\n"
     ]
    }
   ],
   "source": [
    "## OR\n",
    "n = 20\n",
    "fib = [0, 1]\n",
    "\n",
    "for i in range(2, n):\n",
    "    fib.append(fib[i-1] + fib[i-2])\n",
    "\n",
    "print(fib)"
   ]
  },
  {
   "cell_type": "markdown",
   "metadata": {},
   "source": [
    "Question#34<br>\n",
    "Write a program to find the compound interest."
   ]
  },
  {
   "cell_type": "code",
   "execution_count": 8,
   "metadata": {
    "tags": []
   },
   "outputs": [
    {
     "name": "stdin",
     "output_type": "stream",
     "text": [
      "Enter the principal amount:  10000\n",
      "Enter the annual interest rate:  0.08\n",
      "Enter the time (in years):  5\n",
      "Enter the number of compounding periods per year:  12\n"
     ]
    },
    {
     "name": "stdout",
     "output_type": "stream",
     "text": [
      "The compound interest is: 4898.46\n"
     ]
    }
   ],
   "source": [
    "# Function to calculate compound interest\n",
    "def compound_interest(principal, rate, time, periods):\n",
    "    # Calculate the compound interest\n",
    "    amount = principal * ((1 + (rate / periods)) ** (periods * time))\n",
    "    interest = amount - principal\n",
    "    \n",
    "    # Return the compound interest\n",
    "    return interest\n",
    "\n",
    "# Get input from user\n",
    "principal = float(input(\"Enter the principal amount: \"))\n",
    "rate = float(input(\"Enter the annual interest rate: \"))\n",
    "time = float(input(\"Enter the time (in years): \"))\n",
    "periods = int(input(\"Enter the number of compounding periods per year: \"))\n",
    "\n",
    "# Calculate and print the compound interest\n",
    "comp_interest = compound_interest(principal, rate, time, periods)\n",
    "print(f\"The compound interest is: {round(comp_interest,2)}\")"
   ]
  },
  {
   "cell_type": "markdown",
   "metadata": {},
   "source": [
    "Question#35<br>\n",
    "Write a Python program that accepts an integer (n) and computes the\n",
    "value of n+nn+nnn."
   ]
  },
  {
   "cell_type": "code",
   "execution_count": 12,
   "metadata": {
    "tags": []
   },
   "outputs": [
    {
     "name": "stdin",
     "output_type": "stream",
     "text": [
      "Enter an interger:  5\n"
     ]
    },
    {
     "name": "stdout",
     "output_type": "stream",
     "text": [
      "The Value is: 615\n"
     ]
    }
   ],
   "source": [
    "n = int(input('Enter an interger: '))\n",
    "nn = int(str(n)*2)\n",
    "nnn = int(str(n)*3)\n",
    "s = n+nn+nnn\n",
    "print(f\"The Value is: {s}\")"
   ]
  },
  {
   "cell_type": "markdown",
   "metadata": {},
   "source": [
    "Question#36<br>\n",
    "Take a number from the user and find the number of digits in it."
   ]
  },
  {
   "cell_type": "code",
   "execution_count": 19,
   "metadata": {
    "tags": []
   },
   "outputs": [
    {
     "name": "stdin",
     "output_type": "stream",
     "text": [
      "Enter a number:  10987\n"
     ]
    },
    {
     "name": "stdout",
     "output_type": "stream",
     "text": [
      "The number of digits in the number is: 5\n"
     ]
    }
   ],
   "source": [
    "num = int(input(\"Enter a number: \"))\n",
    "length = len(str(num))\n",
    "# length = len(list(str(num).strip()))\n",
    "print(\"The number of digits in the number is:\", length)"
   ]
  },
  {
   "cell_type": "markdown",
   "metadata": {},
   "source": [
    "Question#37<br>\n",
    "Print all factors of a given number provided by the user"
   ]
  },
  {
   "cell_type": "code",
   "execution_count": 22,
   "metadata": {
    "tags": []
   },
   "outputs": [
    {
     "name": "stdin",
     "output_type": "stream",
     "text": [
      "Enter a Number:  12\n"
     ]
    },
    {
     "name": "stdout",
     "output_type": "stream",
     "text": [
      "The factors of num are: 1 2 3 4 6 12\n"
     ]
    }
   ],
   "source": [
    "num = int(input(\"Enter a Number: \"))\n",
    "factors = list()\n",
    "for i in range(1,num+1):\n",
    "    if num % i == 0:\n",
    "        factors.append(i)\n",
    "print(\"The factors of given number are:\", *factors)"
   ]
  },
  {
   "cell_type": "markdown",
   "metadata": {},
   "source": [
    "Question#38<br>\n",
    "Find the reverse of a number provided by the user(any number of digit)\n"
   ]
  },
  {
   "cell_type": "code",
   "execution_count": 28,
   "metadata": {
    "tags": []
   },
   "outputs": [
    {
     "name": "stdin",
     "output_type": "stream",
     "text": [
      "Enter a number:  12345\n"
     ]
    },
    {
     "name": "stdout",
     "output_type": "stream",
     "text": [
      "The reverse of 12345 is 54321.\n"
     ]
    }
   ],
   "source": [
    "# Ask the user to input a number\n",
    "num = int(input(\"Enter a number: \"))\n",
    "\n",
    "# Convert the number to a string and reverse it using slicing\n",
    "reverse_num = str(num)[::-1]\n",
    "\n",
    "# Convert the reversed string back to an integer\n",
    "reverse_num = int(reverse_num)\n",
    "\n",
    "# Print the reversed number\n",
    "print(f\"The reverse of {num} is {reverse_num}.\")"
   ]
  },
  {
   "cell_type": "markdown",
   "metadata": {},
   "source": [
    "Question#39<br>\n",
    "Write a program to print the following pattern<br>\n",
    "*<br>\n",
    "**<br>\n",
    "***<br>\n",
    "****<br>\n",
    "*****<br>"
   ]
  },
  {
   "cell_type": "code",
   "execution_count": 29,
   "metadata": {
    "tags": []
   },
   "outputs": [
    {
     "name": "stdin",
     "output_type": "stream",
     "text": [
      "Enter the number:  5\n"
     ]
    },
    {
     "name": "stdout",
     "output_type": "stream",
     "text": [
      "*\n",
      "**\n",
      "***\n",
      "****\n",
      "*****\n"
     ]
    }
   ],
   "source": [
    "def pattern(num):\n",
    "    for i in range(1,num+1):\n",
    "        print(\"*\"*i)\n",
    "number = int(input(\"Enter the number: \"))\n",
    "pattern(number)"
   ]
  },
  {
   "cell_type": "markdown",
   "metadata": {},
   "source": [
    "Question#40<br>\n",
    "Write a program to print the following pattern<br>\n",
    "*<br>\n",
    "**<br>\n",
    "***<br>\n",
    "**<br>\n",
    "*<br>\n"
   ]
  },
  {
   "cell_type": "code",
   "execution_count": 38,
   "metadata": {
    "tags": []
   },
   "outputs": [
    {
     "name": "stdout",
     "output_type": "stream",
     "text": [
      "*\n",
      "**\n",
      "***\n",
      "**\n",
      "*\n"
     ]
    }
   ],
   "source": [
    "# Define the number of rows in the pattern\n",
    "num_rows = 3\n",
    "\n",
    "# Print the upper half of the pattern\n",
    "for i in range(1, num_rows+1):\n",
    "    print(\"*\" * i)\n",
    "\n",
    "# Print the lower half of the pattern\n",
    "for j in range(num_rows-1, 0, -1):\n",
    "    print(\"*\" * j)\n"
   ]
  },
  {
   "cell_type": "code",
   "execution_count": 39,
   "metadata": {
    "tags": []
   },
   "outputs": [
    {
     "name": "stdout",
     "output_type": "stream",
     "text": [
      "*\n",
      "**\n",
      "***\n",
      "**\n",
      "*\n"
     ]
    }
   ],
   "source": [
    "# Define the number of rows in the pattern\n",
    "n = 5\n",
    "\n",
    "# Print the upper half of the pattern\n",
    "for i in range(1, n+1):\n",
    "    if i <= (n+1)//2:\n",
    "        print(\"*\" * i)\n",
    "    else:\n",
    "        print(\"*\" * (n-i+1))"
   ]
  },
  {
   "cell_type": "markdown",
   "metadata": {},
   "source": [
    "Question#41<br>\n",
    "Write a program to print the following pattern<br>"
   ]
  },
  {
   "cell_type": "code",
   "execution_count": 14,
   "metadata": {
    "tags": []
   },
   "outputs": [
    {
     "name": "stdout",
     "output_type": "stream",
     "text": [
      "    *\n",
      "   ***\n",
      "  *****\n",
      " *******\n",
      "*********\n"
     ]
    }
   ],
   "source": [
    "# Define the number of rows\n",
    "num_rows = 5\n",
    "\n",
    "# Loop through each row\n",
    "for i in range(1, num_rows+1):\n",
    "    # Calculate the number of spaces and asterisks to print on this row\n",
    "    num_spaces = num_rows - i\n",
    "    num_asterisks = 2 * i - 1\n",
    "    \n",
    "    # Print the spaces\n",
    "    for j in range(num_spaces):\n",
    "        print(\" \", end=\"\")\n",
    "    \n",
    "    # Print the asterisks\n",
    "    for k in range(num_asterisks):\n",
    "        print(\"*\", end=\"\")\n",
    "    \n",
    "    # Print a newline character to move to the next row\n",
    "    print()\n"
   ]
  },
  {
   "cell_type": "markdown",
   "metadata": {},
   "source": [
    "Question#42<br>\n",
    "Write a program to print the following pattern<br>\n",
    "1<br>\n",
    "1 2 1<br>\n",
    "1 2 3 2 1<br>\n",
    "1 2 3 4 3 2 1<br>\n",
    "1 2 3 4 5 4 3 2 1"
   ]
  },
  {
   "cell_type": "code",
   "execution_count": 38,
   "metadata": {
    "tags": []
   },
   "outputs": [
    {
     "name": "stdout",
     "output_type": "stream",
     "text": [
      "1 \n",
      "1 2 1 \n",
      "1 2 3 2 1 \n",
      "1 2 3 4 3 2 1 \n",
      "1 2 3 4 5 4 3 2 1 \n"
     ]
    }
   ],
   "source": [
    "# Define the number of rows\n",
    "num_rows = 5\n",
    "\n",
    "# Loop through each row\n",
    "for i in range(1, num_rows+1):\n",
    "    # Print the numbers before the center number\n",
    "    for j in range(1, i+1):\n",
    "        print(j, end=\" \")\n",
    "    \n",
    "    # Print the center number\n",
    "    for k in range(i-1, 0, -1):\n",
    "        print(k, end=\" \")\n",
    "    \n",
    "    # Print a newline character to move to the next row\n",
    "    print()"
   ]
  },
  {
   "cell_type": "markdown",
   "metadata": {},
   "source": [
    "Question#43\n",
    "Write a program to print the following pattern<br>\n",
    "1<br>\n",
    "2 3<br>\n",
    "4 5 6<br>\n",
    "7 8 9 10<br>\n"
   ]
  },
  {
   "cell_type": "code",
   "execution_count": 41,
   "metadata": {
    "tags": []
   },
   "outputs": [
    {
     "name": "stdout",
     "output_type": "stream",
     "text": [
      "1 \n",
      "2 3 \n",
      "4 5 6 \n",
      "7 8 9 10 \n"
     ]
    }
   ],
   "source": [
    "# Define the number of rows\n",
    "num_rows = 4\n",
    "\n",
    "# Initialize the starting number\n",
    "current_num = 1\n",
    "\n",
    "# Loop through each row\n",
    "for i in range(num_rows):\n",
    "    # Loop through each column in the row\n",
    "    for j in range(i+1):\n",
    "        # Print the current number and increment it\n",
    "        print(current_num, end=\" \")\n",
    "        current_num += 1\n",
    "    \n",
    "    # Print a newline character to move to the next row\n",
    "    print()"
   ]
  },
  {
   "cell_type": "markdown",
   "metadata": {},
   "source": [
    "Question#44<br>\n",
    "Write a program to calculate the sum of the following series till the\n",
    "nth term<br>\n",
    "1/1! + 2/2! + 3/3! + 4/4! +…….+ n/n!<br>\n",
    "n will be provided by the user"
   ]
  },
  {
   "cell_type": "code",
   "execution_count": 44,
   "metadata": {
    "tags": []
   },
   "outputs": [
    {
     "name": "stdin",
     "output_type": "stream",
     "text": [
      "Enter the value of n:  10\n"
     ]
    },
    {
     "name": "stdout",
     "output_type": "stream",
     "text": [
      "The sum of the series is: 2.7182815255731922\n"
     ]
    }
   ],
   "source": [
    "# Take input from the user\n",
    "n = int(input(\"Enter the value of n: \"))\n",
    "\n",
    "# Initialize the sum variable to 0\n",
    "summ = 0\n",
    "\n",
    "# Loop through each term of the series\n",
    "for i in range(1, n+1):\n",
    "    # Calculate the factorial of the current number\n",
    "    factorial = 1\n",
    "    for j in range(1, i+1):\n",
    "        factorial *= j\n",
    "    \n",
    "    # Calculate the value of the current term\n",
    "    term = i / factorial\n",
    "    \n",
    "    # Add the value of the current term to the sum\n",
    "    summ += term\n",
    "\n",
    "# Print the sum of the series\n",
    "print(\"The sum of the series is:\", summ)\n"
   ]
  },
  {
   "cell_type": "markdown",
   "metadata": {},
   "source": [
    "Question#45<br>\n",
    "Write a Python Program to Find the Sum of the Series till the nth term:<br>\n",
    "1 + x^2/2 + x^3/3 + … x^n/n<br>\n",
    "n and x will be provided by the user"
   ]
  },
  {
   "cell_type": "code",
   "execution_count": 47,
   "metadata": {
    "tags": []
   },
   "outputs": [
    {
     "name": "stdin",
     "output_type": "stream",
     "text": [
      "Enter the value of n:  7\n",
      "Enter the value of x:  2\n"
     ]
    },
    {
     "name": "stdout",
     "output_type": "stream",
     "text": [
      "The sum of the series 1 + x^2/2 + x^3/3 + ... + x^n/n for n=7 and x=2 is 45.01904761904762\n"
     ]
    }
   ],
   "source": [
    "# take input for n and x\n",
    "n = int(input(\"Enter the value of n: \"))\n",
    "x = int(input(\"Enter the value of x: \"))\n",
    "\n",
    "# initialize the sum to 1, since the first term of the series is always 1\n",
    "summ = 1\n",
    "\n",
    "# loop through each term of the series from 2 to n\n",
    "for i in range(2, n+1):\n",
    "    # calculate the value of the current term using the formula x^i/i\n",
    "    term = x**i / i\n",
    "    # add the term to the sum\n",
    "    summ += term\n",
    "\n",
    "# print the sum of the series using an f-string\n",
    "print(f\"The sum of the series 1 + x^2/2 + x^3/3 + ... + x^n/n for n={n} and x={x} is {summ}\")\n"
   ]
  },
  {
   "cell_type": "markdown",
   "metadata": {},
   "source": [
    "Question#46<br>\n",
    "The natural logarithm can be approximated by the following series. <br>\n",
    "If x is input through the keyboard, write a program to calculate the\n",
    "sum of the first seven terms of this series"
   ]
  },
  {
   "cell_type": "code",
   "execution_count": null,
   "metadata": {},
   "outputs": [],
   "source": []
  },
  {
   "cell_type": "markdown",
   "metadata": {},
   "source": [
    "Question#47<br>\n",
    "Write a program that keeps on accepting a number from the user until\n",
    "the user enters Zero. Display the sum and average of all the numbers.\n"
   ]
  },
  {
   "cell_type": "code",
   "execution_count": 4,
   "metadata": {
    "tags": []
   },
   "outputs": [
    {
     "name": "stdin",
     "output_type": "stream",
     "text": [
      "Enter a number:  12\n",
      "Enter a number:  32\n",
      "Enter a number:  12\n",
      "Enter a number:  56\n",
      "Enter a number:  78\n",
      "Enter a number:  0\n"
     ]
    },
    {
     "name": "stdout",
     "output_type": "stream",
     "text": [
      "The Sum of all the numbers is: 190\n",
      "The Average of all the numbers is: 38.0\n"
     ]
    }
   ],
   "source": [
    "num_list = []\n",
    "while True:\n",
    "    n = int(input(\"Enter a number: \"))\n",
    "    if n == 0:\n",
    "        break\n",
    "    num_list.append(n)\n",
    "total_sum = sum(num_list)\n",
    "avg = total_sum / len(num_list)\n",
    "print(f\"The Sum of all the numbers is: {total_sum}\")\n",
    "print(f\"The Average of all the numbers is: {avg}\")"
   ]
  },
  {
   "cell_type": "markdown",
   "metadata": {},
   "source": [
    "Question#48<br>\n",
    "Write a program that accepts 2 numbers from the user a numerator\n",
    "and a denominator and then simplifies it.<br>\n",
    "Eg if the num = 5, den = 15 the answer should be ⅓<br>\n",
    "Eg if the num = 6, den = 9 the answer should be ⅔"
   ]
  },
  {
   "cell_type": "code",
   "execution_count": 8,
   "metadata": {
    "tags": []
   },
   "outputs": [
    {
     "name": "stdin",
     "output_type": "stream",
     "text": [
      "Enter the numerator:  6\n",
      "Enter the denominator:  9\n"
     ]
    },
    {
     "name": "stdout",
     "output_type": "stream",
     "text": [
      "Simplified fraction: 2/3\n"
     ]
    }
   ],
   "source": [
    "num = int(input(\"Enter the numerator: \"))\n",
    "den = int(input(\"Enter the denominator: \"))\n",
    "\n",
    "# Find the greatest common divisor using Euclid's algorithm\n",
    "a, b = num, den\n",
    "while b != 0:\n",
    "    a, b = b, a % b\n",
    "\n",
    "# Simplify the fraction\n",
    "num = num // a\n",
    "den =  den // a\n",
    "\n",
    "print(f\"Simplified fraction: {num}/{den}\")"
   ]
  },
  {
   "cell_type": "code",
   "execution_count": 9,
   "metadata": {
    "tags": []
   },
   "outputs": [
    {
     "name": "stdin",
     "output_type": "stream",
     "text": [
      "Enter numerator:  6\n",
      "Enter denominator:  9\n"
     ]
    },
    {
     "name": "stdout",
     "output_type": "stream",
     "text": [
      "6/9 is simplified to 2/3\n"
     ]
    }
   ],
   "source": [
    "numerator = int(input(\"Enter numerator: \"))\n",
    "denominator = int(input(\"Enter denominator: \"))\n",
    "\n",
    "def gcd(a,b):\n",
    "    if b==0:\n",
    "        return a\n",
    "    else:\n",
    "        return gcd(b,a%b)\n",
    "\n",
    "common_factor = gcd(numerator,denominator)\n",
    "simplified_num = numerator // common_factor\n",
    "simplified_den = denominator // common_factor\n",
    "\n",
    "print(f\"{numerator}/{denominator} is simplified to {simplified_num}/{simplified_den}\")"
   ]
  },
  {
   "cell_type": "markdown",
   "metadata": {},
   "source": [
    "Question#49<br>\n",
    "Find the length of a given string without using the len() function."
   ]
  },
  {
   "cell_type": "code",
   "execution_count": 15,
   "metadata": {
    "tags": []
   },
   "outputs": [
    {
     "name": "stdin",
     "output_type": "stream",
     "text": [
      "Enter a  string:  This is a string\n"
     ]
    },
    {
     "name": "stdout",
     "output_type": "stream",
     "text": [
      "Length of string is 16\n"
     ]
    }
   ],
   "source": [
    "s = input(\"Enter a  string: \")\n",
    "count = 0\n",
    "for i in s:\n",
    "    count+=1\n",
    "print(f\"Length of string is {count}\")"
   ]
  },
  {
   "cell_type": "markdown",
   "metadata": {},
   "source": [
    "Question#50<br>\n",
    "Extract username from a given email.<br>\n",
    "Eg if the email is *nitish24singh@gmail.com* then the username\n",
    "should be **nitish24singh**"
   ]
  },
  {
   "cell_type": "code",
   "execution_count": 17,
   "metadata": {
    "tags": []
   },
   "outputs": [
    {
     "name": "stdin",
     "output_type": "stream",
     "text": [
      "Enter Your Email:  nitish24singh@gmail.com\n"
     ]
    },
    {
     "name": "stdout",
     "output_type": "stream",
     "text": [
      "The username is: nitish24singh\n"
     ]
    }
   ],
   "source": [
    "# take input from the user\n",
    "email = input(\"Enter Your Email: \")\n",
    "\n",
    "# split the email by \"@\" to separate username from domain\n",
    "# then get the first element (i.e. username)\n",
    "username = email.split(\"@\")[0]\n",
    "\n",
    "# display the extracted username\n",
    "print(f\"The username is: {username}\")"
   ]
  },
  {
   "cell_type": "markdown",
   "metadata": {},
   "source": [
    "Question#51<br>\n",
    "Count the frequency of a particular character in a provided string. <br>\n",
    "Eg:'hello how are you' is the string, the frequency of h in this string is 2.\n"
   ]
  },
  {
   "cell_type": "code",
   "execution_count": 2,
   "metadata": {
    "tags": []
   },
   "outputs": [
    {
     "name": "stdin",
     "output_type": "stream",
     "text": [
      "Enter a String:  hello how are you\n",
      "Enter which Character you want to Count:  h\n"
     ]
    },
    {
     "name": "stdout",
     "output_type": "stream",
     "text": [
      "The Character: h appear 2 times in the String.\n"
     ]
    }
   ],
   "source": [
    "s = input(\"Enter a String: \")\n",
    "char = input(\"Enter which Character you want to Count: \")\n",
    "char_count = s.count(char)\n",
    "print(f\"The Character: {char} appear {char_count} times in the String.\")"
   ]
  },
  {
   "cell_type": "markdown",
   "metadata": {},
   "source": [
    "Question#52<br>\n",
    "Find the index position of a particular character in another string."
   ]
  },
  {
   "cell_type": "code",
   "execution_count": 5,
   "metadata": {
    "tags": []
   },
   "outputs": [
    {
     "name": "stdin",
     "output_type": "stream",
     "text": [
      "Enter a String:  This is a String\n",
      "Enter which Character's Index you want to find:  a\n"
     ]
    },
    {
     "name": "stdout",
     "output_type": "stream",
     "text": [
      "The Index of a is: 8\n"
     ]
    }
   ],
   "source": [
    "s = input(\"Enter a String: \")\n",
    "char = input(\"Enter which Character's Index you want to find: \")\n",
    "position = s.find(char)\n",
    "print(f\"The Index of {char} is: {position}\")"
   ]
  },
  {
   "cell_type": "markdown",
   "metadata": {},
   "source": [
    "Question#53<br>\n",
    "Count the number of vowels in a string provided by the user."
   ]
  },
  {
   "cell_type": "code",
   "execution_count": 8,
   "metadata": {
    "tags": []
   },
   "outputs": [
    {
     "name": "stdin",
     "output_type": "stream",
     "text": [
      "Enter a String:  Count the vowels in this string\n"
     ]
    },
    {
     "name": "stdout",
     "output_type": "stream",
     "text": [
      "There are 8 vowels in the string.\n"
     ]
    }
   ],
   "source": [
    "s = input(\"Enter a String: \")\n",
    "count = 0\n",
    "vowels = ['a','e','o','i','u']\n",
    "for char in s:\n",
    "    if char in vowels:\n",
    "        count += 1\n",
    "print(f\"There are {count} vowels in the string.\")"
   ]
  },
  {
   "cell_type": "markdown",
   "metadata": {},
   "source": [
    "Question#54<br>\n",
    "Write a program which can remove a particular character from a string."
   ]
  },
  {
   "cell_type": "code",
   "execution_count": 12,
   "metadata": {
    "tags": []
   },
   "outputs": [
    {
     "name": "stdin",
     "output_type": "stream",
     "text": [
      "Enter a String:  This is aa String.\n",
      "Enter the character you want to remove:  a\n"
     ]
    },
    {
     "name": "stdout",
     "output_type": "stream",
     "text": [
      "Before Removing: This is aa String.\n",
      "After Removing: This is a String.\n"
     ]
    }
   ],
   "source": [
    "s = input(\"Enter a String: \")\n",
    "char = input(\"Enter the character you want to remove: \")\n",
    "char_rmv = s.replace(char,\"\",1) # 1 in the replace() method tells it to replace only the first occurrence of the character.\n",
    "print(f\"Before Removing: {s}\")\n",
    "print(f\"After Removing: {char_rmv}\")"
   ]
  },
  {
   "cell_type": "markdown",
   "metadata": {},
   "source": [
    "Question#55<br>\n",
    "Write a program that can check whether a given string is palindrome or\n",
    "not."
   ]
  },
  {
   "cell_type": "code",
   "execution_count": 22,
   "metadata": {
    "tags": []
   },
   "outputs": [
    {
     "name": "stdin",
     "output_type": "stream",
     "text": [
      "Enter a String:  abba\n"
     ]
    },
    {
     "name": "stdout",
     "output_type": "stream",
     "text": [
      "This string is Palindrome As abba == abba .\n"
     ]
    }
   ],
   "source": [
    "s = input(\"Enter a String: \")\n",
    "if s == s[::-1]:\n",
    "    print(f\"This string is Palindrome As {s} == {s[::-1]} .\")\n",
    "else:\n",
    "    print(f\"This string is Not Palindrome As {s} != {s[::-1]}.\")"
   ]
  },
  {
   "cell_type": "markdown",
   "metadata": {},
   "source": [
    "Question#56<br>\n",
    "Write a python program to remove all the duplicates from a list."
   ]
  },
  {
   "cell_type": "code",
   "execution_count": 24,
   "metadata": {
    "tags": []
   },
   "outputs": [
    {
     "name": "stdout",
     "output_type": "stream",
     "text": [
      "[1, 2, 3, 4, 5, 6, 7]\n"
     ]
    }
   ],
   "source": [
    "## Method 1\n",
    "num_list = [1,2,3,4,5,6,7,7,6,5,4,3,2,1]\n",
    "no_duplicate = []\n",
    "for i in num_list:\n",
    "    if i not in no_duplicate:\n",
    "        no_duplicate.append(i)\n",
    "print(no_duplicate)"
   ]
  },
  {
   "cell_type": "code",
   "execution_count": 26,
   "metadata": {
    "tags": []
   },
   "outputs": [
    {
     "name": "stdout",
     "output_type": "stream",
     "text": [
      "[1, 2, 3, 4, 5, 6, 7]\n"
     ]
    }
   ],
   "source": [
    "## Method 2\n",
    "num_list = [1,2,3,4,5,6,7,7,6,5,4,3,2,1]\n",
    "print(list(set(num_list)))"
   ]
  },
  {
   "cell_type": "markdown",
   "metadata": {},
   "source": [
    "Question#57<br>\n",
    "Write a python program to convert a string to title case without using\n",
    "the title()."
   ]
  },
  {
   "cell_type": "code",
   "execution_count": 27,
   "metadata": {
    "tags": []
   },
   "outputs": [
    {
     "name": "stdin",
     "output_type": "stream",
     "text": [
      "Enter a String:  This is a title\n"
     ]
    },
    {
     "name": "stdout",
     "output_type": "stream",
     "text": [
      "This Is A Title\n"
     ]
    }
   ],
   "source": [
    "## Checking what title do\n",
    "s = input(\"Enter a String: \")\n",
    "print(s.title())"
   ]
  },
  {
   "cell_type": "code",
   "execution_count": 33,
   "metadata": {
    "tags": []
   },
   "outputs": [
    {
     "name": "stdin",
     "output_type": "stream",
     "text": [
      "Enter a String:  This is a string\n"
     ]
    },
    {
     "name": "stdout",
     "output_type": "stream",
     "text": [
      "This Is A String\n"
     ]
    }
   ],
   "source": [
    "## Solution\n",
    "s = input(\"Enter a String: \")\n",
    "words = s.split()\n",
    "for i in range(len(words)):\n",
    "    words[i] = words[i][0].upper() + words[i][1:]\n",
    "# print(*words)\n",
    "## or use join\n",
    "print(\" \".join(words))"
   ]
  },
  {
   "cell_type": "markdown",
   "metadata": {},
   "source": [
    "Question#58<br>\n",
    "Write a python program to find the max item from a list without using\n",
    "the max function."
   ]
  },
  {
   "cell_type": "code",
   "execution_count": 35,
   "metadata": {
    "tags": []
   },
   "outputs": [
    {
     "name": "stdout",
     "output_type": "stream",
     "text": [
      "The maximum item in the list is: 9\n"
     ]
    }
   ],
   "source": [
    "def find_max(lst):\n",
    "    max_item = lst[0]\n",
    "    for item in lst:\n",
    "        if item > max_item:\n",
    "            max_item = item\n",
    "    return max_item\n",
    "\n",
    "lst = [3, 7, 2, 9, 4, 1, 6]\n",
    "max_item = find_max(lst)\n",
    "\n",
    "print(\"The maximum item in the list is:\", max_item)"
   ]
  },
  {
   "cell_type": "markdown",
   "metadata": {},
   "source": [
    "Question#59<br>\n",
    "Write a python program to reverse a list"
   ]
  },
  {
   "cell_type": "code",
   "execution_count": 39,
   "metadata": {
    "tags": []
   },
   "outputs": [
    {
     "name": "stdout",
     "output_type": "stream",
     "text": [
      "The Reverse of:[3, 7, 2, 9, 4, 1, 6] is:[6, 1, 4, 9, 2, 7, 3]\n"
     ]
    }
   ],
   "source": [
    "lst = [3, 7, 2, 9, 4, 1, 6]\n",
    "print(f\"The Reverse of:{lst} is:{lst[::-1]}\")"
   ]
  },
  {
   "cell_type": "code",
   "execution_count": 42,
   "metadata": {
    "tags": []
   },
   "outputs": [
    {
     "name": "stdout",
     "output_type": "stream",
     "text": [
      "The original list is: [3, 7, 2, 9, 4, 1, 6]\n",
      "The reversed list is: [6, 1, 4, 9, 2, 7, 3]\n"
     ]
    }
   ],
   "source": [
    "lst = [3, 7, 2, 9, 4, 1, 6]\n",
    "reversed_lst = list(reversed(lst))\n",
    "print(\"The original list is:\", lst)\n",
    "print(\"The reversed list is:\", reversed_lst)"
   ]
  },
  {
   "cell_type": "markdown",
   "metadata": {},
   "source": [
    "Question#60<br>\n",
    "Write a python program to search a given number from a list."
   ]
  },
  {
   "cell_type": "code",
   "execution_count": 43,
   "metadata": {
    "tags": []
   },
   "outputs": [
    {
     "name": "stdout",
     "output_type": "stream",
     "text": [
      "9 was found at index 3 in the list.\n"
     ]
    }
   ],
   "source": [
    "def search_number(lst, num):\n",
    "    \"\"\"\n",
    "    Searches for a given number in a list and returns its index if found,\n",
    "    or -1 if not found.\n",
    "    \"\"\"\n",
    "    for i in range(len(lst)):\n",
    "        if lst[i] == num:\n",
    "            return i\n",
    "    return -1\n",
    "\n",
    "# Example usage:\n",
    "lst = [3, 7, 2, 9, 4, 1, 6]\n",
    "num = 9\n",
    "index = search_number(lst, num)\n",
    "if index == -1:\n",
    "    print(f\"{num} was not found in the list.\")\n",
    "else:\n",
    "    print(f\"{num} was found at index {index} in the list.\")"
   ]
  },
  {
   "cell_type": "markdown",
   "metadata": {},
   "source": [
    "Question#61<br>\n",
    "Write a program that can create a new list from a given list where each\n",
    "item in the new list is square of the item of the old list."
   ]
  },
  {
   "cell_type": "code",
   "execution_count": 45,
   "metadata": {
    "tags": []
   },
   "outputs": [
    {
     "name": "stdout",
     "output_type": "stream",
     "text": [
      "The original list is: [3, 7, 2, 9, 4, 1, 6]\n",
      "The squared list is: [9, 49, 4, 81, 16, 1, 36]\n"
     ]
    }
   ],
   "source": [
    "def square_list(lst):\n",
    "    return [item ** 2 for item in lst]\n",
    "\n",
    "lst = [3, 7, 2, 9, 4, 1, 6]\n",
    "squared_lst = square_list(lst)\n",
    "print(f\"The original list is: {lst}\")\n",
    "print(f\"The squared list is: {squared_lst}\")\n"
   ]
  },
  {
   "cell_type": "markdown",
   "metadata": {},
   "source": [
    "Question#62<br>\n",
    "Write a program that can reverse words of a given string.<br>\n",
    "Eg: If the input is Hello how are you.<br>\n",
    "Output should be you are how Hello\n"
   ]
  },
  {
   "cell_type": "code",
   "execution_count": 48,
   "metadata": {
    "tags": []
   },
   "outputs": [
    {
     "name": "stdout",
     "output_type": "stream",
     "text": [
      "The original string is: Hello how are you\n",
      "The reversed string is: you are how Hello\n"
     ]
    }
   ],
   "source": [
    "def reverse_words(string):\n",
    "    words = string.split()  # Split the string into words\n",
    "    reversed_words = words[::-1]  # Reverse the order of the words\n",
    "    reversed_string = ' '.join(reversed_words)  # Join the words back into a string\n",
    "    return reversed_string\n",
    "\n",
    "string = \"Hello how are you\"\n",
    "reversed_string = reverse_words(string)\n",
    "print(f\"The original string is: {string}\")\n",
    "print(f\"The reversed string is: {reversed_string}\")\n"
   ]
  },
  {
   "cell_type": "markdown",
   "metadata": {},
   "source": [
    "Question#63<br>\n",
    "Write a program that can count the number of words in a given string."
   ]
  },
  {
   "cell_type": "code",
   "execution_count": 50,
   "metadata": {
    "tags": []
   },
   "outputs": [
    {
     "name": "stdout",
     "output_type": "stream",
     "text": [
      "The string 'Hello how are you' has 4 words.\n"
     ]
    }
   ],
   "source": [
    "def count_words(string):\n",
    "    words = string.split()  # Split the string into words\n",
    "    return len(words)\n",
    "\n",
    "string = \"Hello how are you\"\n",
    "word_count = count_words(string)\n",
    "print(f\"The string '{string}' has {word_count} words.\")\n"
   ]
  },
  {
   "cell_type": "markdown",
   "metadata": {},
   "source": [
    "Question#64<br>\n",
    "Write a program to check if a list is in ascending order or not."
   ]
  },
  {
   "cell_type": "code",
   "execution_count": 56,
   "metadata": {
    "tags": []
   },
   "outputs": [
    {
     "name": "stdout",
     "output_type": "stream",
     "text": [
      "The list [1, 2, 3, 4, 5] is in ascending order: True\n",
      "The list [5, 4, 3, 2, 1] is in ascending order: False\n"
     ]
    }
   ],
   "source": [
    "def is_ascending(lst):\n",
    "    for i in range(len(lst)-1):\n",
    "        if lst[i] > lst[i+1]:\n",
    "            return False\n",
    "    return True\n",
    "\n",
    "lst1 = [1, 2, 3, 4, 5]\n",
    "lst2 = [5, 4, 3, 2, 1]\n",
    "print(f\"The list {lst1} is in ascending order: {is_ascending(lst1)}\")\n",
    "print(f\"The list {lst2} is in ascending order: {is_ascending(lst2)}\")\n"
   ]
  },
  {
   "cell_type": "markdown",
   "metadata": {},
   "source": [
    "Question#65<br>\n",
    "Create 2 lists from a given list where 1st list will contain all the odd\n",
    "numbers from the original list and the 2nd one will contain all the even\n",
    "numbers"
   ]
  },
  {
   "cell_type": "code",
   "execution_count": 59,
   "metadata": {
    "tags": []
   },
   "outputs": [
    {
     "name": "stdout",
     "output_type": "stream",
     "text": [
      "Odd list: [1, 3, 5, 7, 9]\n",
      "Even list: [2, 4, 6, 8]\n"
     ]
    }
   ],
   "source": [
    "given_list = [1, 2, 3, 4, 5, 6, 7, 8, 9]\n",
    "odd_list = []\n",
    "even_list = []\n",
    "\n",
    "for num in given_list:\n",
    "    if num % 2 == 0:\n",
    "        even_list.append(num)\n",
    "    else:\n",
    "        odd_list.append(num)\n",
    "\n",
    "print(\"Odd list:\", odd_list)\n",
    "print(\"Even list:\", even_list)\n"
   ]
  },
  {
   "cell_type": "markdown",
   "metadata": {},
   "source": [
    "Question#66<br>\n",
    "Write a program to merge 2 list without using the + operator."
   ]
  },
  {
   "cell_type": "code",
   "execution_count": 2,
   "metadata": {
    "tags": []
   },
   "outputs": [
    {
     "name": "stdout",
     "output_type": "stream",
     "text": [
      "[1, 2, 3, 4, 5, 6]\n"
     ]
    }
   ],
   "source": [
    "def merge_lists(list1, list2):\n",
    "    merged_list = list1.copy()\n",
    "    merged_list.extend(list2)\n",
    "    return merged_list\n",
    "list1 = [1, 2, 3]\n",
    "list2 = [4, 5, 6]\n",
    "merged_list = merge_lists(list1, list2)\n",
    "print(merged_list)"
   ]
  },
  {
   "cell_type": "code",
   "execution_count": 3,
   "metadata": {
    "tags": []
   },
   "outputs": [
    {
     "name": "stdout",
     "output_type": "stream",
     "text": [
      "[1, 2, 3, 4, 5, 6]\n"
     ]
    }
   ],
   "source": [
    "def merge_lists(list1, list2):\n",
    "    merge_list = []\n",
    "    for item in list1:\n",
    "        merge_list.append(item)\n",
    "    for item in list2:\n",
    "        merge_list.append(item)\n",
    "    return merge_list\n",
    "list1 = [1, 2, 3]\n",
    "list2 = [4, 5, 6]\n",
    "merged_list = merge_lists(list1, list2)\n",
    "print(merged_list)"
   ]
  },
  {
   "cell_type": "markdown",
   "metadata": {},
   "source": [
    "Question#67<br>\n",
    "Write a program to replace an item with a different item if found in the\n",
    "list."
   ]
  },
  {
   "cell_type": "code",
   "execution_count": 1,
   "metadata": {
    "tags": []
   },
   "outputs": [
    {
     "name": "stdin",
     "output_type": "stream",
     "text": [
      "Enter what you want to replace:  abc\n",
      "Enter what you want to replace with:  345\n"
     ]
    },
    {
     "name": "stdout",
     "output_type": "stream",
     "text": [
      "Item 'abc' was replaced with '345'.\n",
      "Updated list: [1, 2, 3, 4.5, 6.5, 345, 'xyz']\n"
     ]
    }
   ],
   "source": [
    "def replace_item(lst):\n",
    "    to_replace = input(\"Enter what you want to replace: \")\n",
    "    if to_replace.isnumeric():\n",
    "        to_replace = int(to_replace)\n",
    "    replace_with = input(\"Enter what you want to replace with: \")\n",
    "    if replace_with.isnumeric():\n",
    "        replace_with = int(replace_with)\n",
    "    if to_replace in lst:\n",
    "        index = lst.index(to_replace)\n",
    "        lst[index] = replace_with\n",
    "        print(f\"Item '{to_replace}' was replaced with '{replace_with}'.\")\n",
    "    else:\n",
    "        print(f\"Item '{to_replace}' was not found in the list.\")\n",
    "    print(\"Updated list:\", lst)\n",
    "    \n",
    "lst = [1,2,3,4.5,6.5,'abc','xyz']\n",
    "replace_item(lst)"
   ]
  },
  {
   "cell_type": "markdown",
   "metadata": {},
   "source": [
    "Question#68<br>\n",
    "Write a program that can convert a 2D list to 1D list."
   ]
  },
  {
   "cell_type": "code",
   "execution_count": 5,
   "metadata": {
    "tags": []
   },
   "outputs": [
    {
     "name": "stdout",
     "output_type": "stream",
     "text": [
      "[1, 2, 3, 4, 5, 6, 7, 8, 9]\n"
     ]
    }
   ],
   "source": [
    "def flatten(lst):\n",
    "    flat_lst = []\n",
    "    for sublst in lst:\n",
    "        for item in sublst:\n",
    "            flat_lst.append(item)\n",
    "    return flat_lst\n",
    "\n",
    "lst_2d = [[1, 2, 3], [4, 5, 6], [7, 8, 9]]\n",
    "lst_1d = flatten(lst_2d)\n",
    "print(lst_1d)"
   ]
  },
  {
   "cell_type": "code",
   "execution_count": 8,
   "metadata": {
    "tags": []
   },
   "outputs": [
    {
     "name": "stdout",
     "output_type": "stream",
     "text": [
      "[1 2 3 4 5 6 7 8 9]\n"
     ]
    }
   ],
   "source": [
    "import numpy as np\n",
    "\n",
    "arr_2d = np.array([[1, 2, 3], [4, 5, 6], [7, 8, 9]])\n",
    "arr_1d = arr_2d.flatten()\n",
    "print(arr_1d)"
   ]
  },
  {
   "cell_type": "markdown",
   "metadata": {},
   "source": [
    "Question#69<br>\n",
    "Write a program that can perform union and intersection on 2 given list."
   ]
  },
  {
   "cell_type": "code",
   "execution_count": 14,
   "metadata": {
    "tags": []
   },
   "outputs": [
    {
     "name": "stdout",
     "output_type": "stream",
     "text": [
      "List1: [1, 2, 3, 4, 5]\n",
      "List2: [3, 4, 5, 6, 7]\n",
      "Union: [1, 2, 3, 4, 5, 6, 7]\n",
      "Intersection: [3, 4, 5]\n"
     ]
    }
   ],
   "source": [
    "list1 = [1, 2, 3, 4, 5]\n",
    "list2 = [3, 4, 5, 6, 7]\n",
    "\n",
    "# Union of list1 and list2\n",
    "union = list(set(list1) | set(list2))\n",
    "\n",
    "# Intersection of list1 and list2\n",
    "intersection = list(set(list1) & set(list2))\n",
    "\n",
    "print(\"List1:\", list1)\n",
    "print(\"List2:\", list2)\n",
    "print(\"Union:\", union)\n",
    "print(\"Intersection:\", intersection)"
   ]
  },
  {
   "cell_type": "markdown",
   "metadata": {},
   "source": [
    "Question#70<br>\n",
    "Write a program that can print the max item of each row of a matrix."
   ]
  },
  {
   "cell_type": "code",
   "execution_count": 17,
   "metadata": {
    "tags": []
   },
   "outputs": [
    {
     "name": "stdout",
     "output_type": "stream",
     "text": [
      "Max item in row: [1, 2, 3] is 3\n",
      "Max item in row: [4, 5, 6] is 6\n",
      "Max item in row: [7, 8, 9] is 9\n"
     ]
    }
   ],
   "source": [
    "matrix = [[1, 2, 3],\n",
    "    [4, 5, 6],\n",
    "    [7, 8, 9]]\n",
    "for row in matrix:\n",
    "    max_item = max(row)\n",
    "    print(\"Max item in row:\", row, \"is\", max_item)"
   ]
  },
  {
   "cell_type": "markdown",
   "metadata": {},
   "source": [
    "Question#71<br>\n",
    "Write a program that can convert an integer to string."
   ]
  },
  {
   "cell_type": "code",
   "execution_count": 18,
   "metadata": {
    "tags": []
   },
   "outputs": [
    {
     "name": "stdout",
     "output_type": "stream",
     "text": [
      "The integer 42 is now a string: 42\n"
     ]
    }
   ],
   "source": [
    "num = 42\n",
    "num_str = str(num)\n",
    "print(\"The integer\", num, \"is now a string:\", num_str)"
   ]
  },
  {
   "cell_type": "markdown",
   "metadata": {},
   "source": [
    "Question#72<br>\n",
    "Write a program to print the shape of a matrix."
   ]
  },
  {
   "cell_type": "code",
   "execution_count": 19,
   "metadata": {
    "tags": []
   },
   "outputs": [
    {
     "name": "stdout",
     "output_type": "stream",
     "text": [
      "Shape of matrix: (3, 3)\n"
     ]
    }
   ],
   "source": [
    "import numpy as np\n",
    "matrix = np.array([[1, 2, 3], [4, 5, 6], [7, 8, 9]])\n",
    "print(\"Shape of matrix:\", matrix.shape)"
   ]
  },
  {
   "cell_type": "code",
   "execution_count": 20,
   "metadata": {
    "tags": []
   },
   "outputs": [
    {
     "name": "stdout",
     "output_type": "stream",
     "text": [
      "Shape of matrix: (3, 3)\n"
     ]
    }
   ],
   "source": [
    "matrix = [[1, 2, 3], [4, 5, 6], [7, 8, 9]]\n",
    "num_rows = len(matrix)\n",
    "num_cols = len(matrix[0])\n",
    "print(\"Shape of matrix:\", (num_rows, num_cols))"
   ]
  },
  {
   "cell_type": "markdown",
   "metadata": {},
   "source": [
    "Question#73<br>\n",
    "Write a program that can check if you can perform matrix\n",
    "multiplication on 2 matrices."
   ]
  },
  {
   "cell_type": "code",
   "execution_count": 21,
   "metadata": {
    "tags": []
   },
   "outputs": [
    {
     "name": "stdout",
     "output_type": "stream",
     "text": [
      "Matrices can be multiplied.\n"
     ]
    }
   ],
   "source": [
    "matrix1 = [[1, 2, 3], [4, 5, 6]]\n",
    "matrix2 = [[7, 8], [9, 10], [11, 12]]\n",
    "if len(matrix1[0]) == len(matrix2):\n",
    "    print(\"Matrices can be multiplied.\")\n",
    "else:\n",
    "    print(\"Matrices cannot be multiplied.\")"
   ]
  },
  {
   "cell_type": "markdown",
   "metadata": {},
   "source": [
    "Question#74<br>\n",
    "Write a program to perform matrix multiplication on 2 matrices."
   ]
  },
  {
   "cell_type": "code",
   "execution_count": 1,
   "metadata": {
    "tags": []
   },
   "outputs": [
    {
     "name": "stdout",
     "output_type": "stream",
     "text": [
      "[[ 58  64]\n",
      " [139 154]]\n"
     ]
    }
   ],
   "source": [
    "import numpy as np\n",
    "\n",
    "matrix1 = [[1, 2, 3], [4, 5, 6]]\n",
    "matrix2 = [[7, 8], [9, 10], [11, 12]]\n",
    "if len(matrix1[0]) != len(matrix2):\n",
    "    print(\"Matrices cannot be multiplied.\")\n",
    "    exit()\n",
    "else:\n",
    "    matrix1 = np.array(matrix1)\n",
    "    matrix2 = np.array(matrix2)\n",
    "    result = np.dot(matrix1,matrix2)\n",
    "    print(result)"
   ]
  },
  {
   "cell_type": "code",
   "execution_count": 2,
   "metadata": {
    "tags": []
   },
   "outputs": [
    {
     "name": "stdout",
     "output_type": "stream",
     "text": [
      "Matrices cannot be multiplied.\n"
     ]
    }
   ],
   "source": [
    "import numpy as np\n",
    "\n",
    "matrix1 = [[1, 2, 3,4], [4, 5, 6,7]]\n",
    "matrix2 = [[7, 8], [9, 10], [11, 12]]\n",
    "if len(matrix1[0]) != len(matrix2):\n",
    "    print(\"Matrices cannot be multiplied.\")\n",
    "    exit()\n",
    "else:\n",
    "    matrix1 = np.array(matrix1)\n",
    "    matrix2 = np.array(matrix2)\n",
    "    result = np.dot(matrix1,matrix2)\n",
    "    print(result)"
   ]
  },
  {
   "cell_type": "markdown",
   "metadata": {},
   "source": [
    "Question#75<br>\n",
    "Write a program that can sort a given unsorted list. Dont use any built in\n",
    "function for sorting."
   ]
  },
  {
   "cell_type": "code",
   "execution_count": 6,
   "metadata": {
    "tags": []
   },
   "outputs": [
    {
     "name": "stdout",
     "output_type": "stream",
     "text": [
      "[1, 2, 5, 11, 12, 77, 109, 999, 1000, 4300]\n"
     ]
    }
   ],
   "source": [
    "lst = [12,4300,11,2,1,5,77,1000,109,999]\n",
    "for i in range(len(lst)):\n",
    "    for j in range(i,len(lst)):\n",
    "        if lst[j] < lst[i]:\n",
    "            lst[i],lst[j] = lst[j],lst[i]\n",
    "print(lst)"
   ]
  },
  {
   "cell_type": "markdown",
   "metadata": {},
   "source": [
    "Question#76<br>\n",
    "Write a program that can find the most used word in a bollywood song."
   ]
  },
  {
   "cell_type": "code",
   "execution_count": 9,
   "metadata": {
    "tags": []
   },
   "outputs": [
    {
     "name": "stdout",
     "output_type": "stream",
     "text": [
      "The most used word in the song is: this\n",
      "It appears 2 times in the song.\n"
     ]
    }
   ],
   "source": [
    "song_lyrics = \"Replace this string with the lyrics of your Bollywood song. This is just a String.\"\n",
    "song_lyrics = song_lyrics.lower()\n",
    "words = song_lyrics.split()\n",
    "word_count = {}\n",
    "for char in words:\n",
    "    if char in word_count:\n",
    "        word_count[char] += 1\n",
    "    else:\n",
    "        word_count[char] = 1\n",
    "most_used = max(word_count, key = word_count.get)\n",
    "print(\"The most used word in the song is:\", most_used)\n",
    "print(\"It appears\", word_count[most_used], \"times in the song.\")"
   ]
  },
  {
   "cell_type": "markdown",
   "metadata": {},
   "source": [
    "Question#77<br>\n",
    "Assume a list with numbers from 1 to 10 and then convert it into a\n",
    "dictionary where the key would be the numbers of the list and the\n",
    "values would be the square of those numbers.\n"
   ]
  },
  {
   "cell_type": "code",
   "execution_count": 12,
   "metadata": {
    "tags": []
   },
   "outputs": [
    {
     "name": "stdout",
     "output_type": "stream",
     "text": [
      "{1: 1, 2: 4, 3: 9, 4: 16, 5: 25, 6: 36, 7: 49, 8: 64, 9: 81, 10: 100}\n"
     ]
    }
   ],
   "source": [
    "lst = list(range(1,11))\n",
    "dic = dict()\n",
    "for i in lst:\n",
    "    dic[i] = i**2\n",
    "print(dic)"
   ]
  },
  {
   "cell_type": "markdown",
   "metadata": {},
   "source": [
    "Question#78<br>\n",
    "Write a program to merge two given dictionary."
   ]
  },
  {
   "cell_type": "code",
   "execution_count": 13,
   "metadata": {
    "tags": []
   },
   "outputs": [
    {
     "name": "stdout",
     "output_type": "stream",
     "text": [
      "{'a': 1, 'b': 2, 'c': 3, 'd': 4, 'e': 5, 'f': 6}\n"
     ]
    }
   ],
   "source": [
    "# Define the two dictionaries to be merged\n",
    "dict1 = {\"a\": 1, \"b\": 2, \"c\": 3}\n",
    "dict2 = {\"d\": 4, \"e\": 5, \"f\": 6}\n",
    "\n",
    "# Use the update() method to merge dict2 into dict1\n",
    "dict1.update(dict2)\n",
    "\n",
    "# Print the merged dictionary\n",
    "print(dict1)\n"
   ]
  },
  {
   "cell_type": "markdown",
   "metadata": {},
   "source": [
    "Question#79<br>\n",
    "Write a program to swap the key value pair for max and min values<br>\n",
    "Eg: if the dict is like this {‘a’:1,’b’:2,’c’:3}<br>\n",
    "Output should be {a:3,b:2,c:1}\n"
   ]
  },
  {
   "cell_type": "code",
   "execution_count": 18,
   "metadata": {
    "tags": []
   },
   "outputs": [
    {
     "name": "stdout",
     "output_type": "stream",
     "text": [
      "{'a': 3, 'b': 2, 'c': 1}\n"
     ]
    }
   ],
   "source": [
    "# Define the input dictionary\n",
    "input_dict = {\"a\": 1, \"b\": 2, \"c\": 3}\n",
    "\n",
    "# Find the keys for the minimum and maximum values\n",
    "min_key = min(input_dict, key=input_dict.get)\n",
    "max_key = max(input_dict, key=input_dict.get)\n",
    "\n",
    "# Swap the key-value pairs for the minimum and maximum values\n",
    "input_dict[min_key], input_dict[max_key] = input_dict[max_key], input_dict[min_key]\n",
    "\n",
    "# Print the modified dictionary\n",
    "print(input_dict)"
   ]
  },
  {
   "cell_type": "markdown",
   "metadata": {},
   "source": [
    "Question#80<br>\n",
    "Write a program to find histogram of a given set of numbers. Take bin\n",
    "size from user. Print the result in the form of a dictionary."
   ]
  },
  {
   "cell_type": "code",
   "execution_count": 20,
   "metadata": {
    "tags": []
   },
   "outputs": [
    {
     "name": "stdin",
     "output_type": "stream",
     "text": [
      "Enter the set of numbers separated by spaces:  1 2 3 4 5 6 7 8 9 11 2 23 334 543 346 5 756 75 45 645 345 34 53 53 453 4534 53 4534  4345\n",
      "Enter the bin size:  10\n"
     ]
    },
    {
     "name": "stdout",
     "output_type": "stream",
     "text": [
      "Histogram:  {0: 11, 1: 1, 2: 1, 33: 1, 54: 1, 34: 2, 75: 1, 7: 1, 4: 1, 64: 1, 3: 1, 5: 3, 45: 1, 453: 2, 434: 1}\n"
     ]
    }
   ],
   "source": [
    "def histogram(numbers, bin_size):\n",
    "    # Initialize an empty dictionary to store the histogram\n",
    "    histogram_dict = {}\n",
    "\n",
    "    # Iterate through the numbers and add them to their respective bins in the dictionary\n",
    "    for number in numbers:\n",
    "        bin_number = int(number // bin_size)\n",
    "        if bin_number in histogram_dict:\n",
    "            histogram_dict[bin_number] += 1\n",
    "        else:\n",
    "            histogram_dict[bin_number] = 1\n",
    "\n",
    "    # Return the histogram dictionary\n",
    "    return histogram_dict\n",
    "\n",
    "# Take the set of numbers and bin size from the user\n",
    "numbers = list(map(float, input(\"Enter the set of numbers separated by spaces: \").split()))\n",
    "bin_size = float(input(\"Enter the bin size: \"))\n",
    "\n",
    "# Compute the histogram and print it in the form of a dictionary\n",
    "hist = histogram(numbers, bin_size)\n",
    "print(\"Histogram: \", hist)\n"
   ]
  },
  {
   "cell_type": "markdown",
   "metadata": {},
   "source": [
    "Question#81<br>\n",
    "Write a function that accepts a string and returns the number of upper\n",
    "case chars and lower case chars as a dictionary."
   ]
  },
  {
   "cell_type": "code",
   "execution_count": 24,
   "metadata": {
    "tags": []
   },
   "outputs": [
    {
     "name": "stdout",
     "output_type": "stream",
     "text": [
      "{'upper': 2, 'lower': 8}\n"
     ]
    }
   ],
   "source": [
    "def count_upper_lower_chars(s):\n",
    "    # Initialize an empty dictionary to store the count of uppercase and lowercase characters\n",
    "    count_dict = {'upper': 0, 'lower': 0}\n",
    "\n",
    "    # Iterate through each character in the string\n",
    "    for char in s:\n",
    "        # Check if the character is uppercase or lowercase\n",
    "        if char.isupper():\n",
    "            count_dict['upper'] += 1\n",
    "        elif char.islower():\n",
    "            count_dict['lower'] += 1\n",
    "\n",
    "    # Return the dictionary of character counts\n",
    "    return count_dict\n",
    "# Call the function with a test string\n",
    "s = \"Hello World\"\n",
    "char_counts = count_upper_lower_chars(s)\n",
    "\n",
    "# Print the resulting dictionary\n",
    "print(char_counts)"
   ]
  },
  {
   "cell_type": "markdown",
   "metadata": {},
   "source": [
    "Question#82<br>\n",
    "Write a function that accepts a list of strings and performs Bag of words\n",
    "and convert it to numerical vectors."
   ]
  },
  {
   "cell_type": "code",
   "execution_count": 9,
   "metadata": {
    "tags": []
   },
   "outputs": [
    {
     "name": "stdout",
     "output_type": "stream",
     "text": [
      "[[1, 1, 1, 1, 0, 0, 0, 0], [1, 0, 0, 0, 1, 1, 1, 1]]\n"
     ]
    }
   ],
   "source": [
    "from collections import Counter\n",
    "\n",
    "def bag_of_words(texts):\n",
    "    # Create a vocabulary that maps each unique word to a unique index\n",
    "    vocab = {}\n",
    "    for text in texts:\n",
    "        for word in text.split():\n",
    "            if word not in vocab:\n",
    "                vocab[word] = len(vocab)\n",
    "    \n",
    "    # Create numerical vectors for each string in texts\n",
    "    vectors = []\n",
    "    for text in texts:\n",
    "        # Count the frequency of each word in the text\n",
    "        word_counts = Counter(text.split())\n",
    "        \n",
    "        # Create a numerical vector with the same length as the vocabulary\n",
    "        vector = [0] * len(vocab)\n",
    "        \n",
    "        # Set the elements of the vector based on the word counts\n",
    "        for word, count in word_counts.items():\n",
    "            if word in vocab:\n",
    "                vector[vocab[word]] = count\n",
    "        \n",
    "        vectors.append(vector)\n",
    "    \n",
    "    return vectors\n",
    "\n",
    "texts = [\"the quick brown fox\", \"jumped over the lazy dog\"]\n",
    "vectors = bag_of_words(texts)\n",
    "print(vectors)"
   ]
  },
  {
   "cell_type": "markdown",
   "metadata": {},
   "source": [
    "Question#83<br>\n",
    "Write a dummy program that can perform login and registration using\n",
    "a menu driven program."
   ]
  },
  {
   "cell_type": "code",
   "execution_count": 10,
   "metadata": {
    "tags": []
   },
   "outputs": [
    {
     "name": "stdout",
     "output_type": "stream",
     "text": [
      "1. Register\n",
      "2. Login\n",
      "3. Exit\n"
     ]
    },
    {
     "name": "stdin",
     "output_type": "stream",
     "text": [
      "Enter your choice:  1\n",
      "Enter a username:  tayyab\n",
      "Enter a password:  123\n"
     ]
    },
    {
     "name": "stdout",
     "output_type": "stream",
     "text": [
      "Registration successful.\n",
      "1. Register\n",
      "2. Login\n",
      "3. Exit\n"
     ]
    },
    {
     "name": "stdin",
     "output_type": "stream",
     "text": [
      "Enter your choice:  1\n",
      "Enter a username:  tayyab\n",
      "Enter a password:  123\n"
     ]
    },
    {
     "name": "stdout",
     "output_type": "stream",
     "text": [
      "Username already exists. Please choose a different username.\n",
      "1. Register\n",
      "2. Login\n",
      "3. Exit\n"
     ]
    },
    {
     "name": "stdin",
     "output_type": "stream",
     "text": [
      "Enter your choice:  2\n",
      "Enter your username:  tayyab\n",
      "Enter your password:  1234\n"
     ]
    },
    {
     "name": "stdout",
     "output_type": "stream",
     "text": [
      "Invalid password.\n",
      "1. Register\n",
      "2. Login\n",
      "3. Exit\n"
     ]
    },
    {
     "name": "stdin",
     "output_type": "stream",
     "text": [
      "Enter your choice:  2\n",
      "Enter your username:  tayyabgfa\n",
      "Enter your password:  tdw\n"
     ]
    },
    {
     "name": "stdout",
     "output_type": "stream",
     "text": [
      "Invalid username.\n",
      "1. Register\n",
      "2. Login\n",
      "3. Exit\n"
     ]
    },
    {
     "name": "stdin",
     "output_type": "stream",
     "text": [
      "Enter your choice:  tayy\n"
     ]
    },
    {
     "name": "stdout",
     "output_type": "stream",
     "text": [
      "Invalid choice. Please enter a number from 1-3.\n",
      "1. Register\n",
      "2. Login\n",
      "3. Exit\n"
     ]
    },
    {
     "name": "stdin",
     "output_type": "stream",
     "text": [
      "Enter your choice:  2\n",
      "Enter your username:  tayyab\n",
      "Enter your password:  123\n"
     ]
    },
    {
     "name": "stdout",
     "output_type": "stream",
     "text": [
      "Login successful.\n",
      "1. Register\n",
      "2. Login\n",
      "3. Exit\n"
     ]
    },
    {
     "name": "stdin",
     "output_type": "stream",
     "text": [
      "Enter your choice:  3\n"
     ]
    },
    {
     "name": "stdout",
     "output_type": "stream",
     "text": [
      "Exiting program...\n"
     ]
    }
   ],
   "source": [
    "# dictionary to store user information\n",
    "users = {}\n",
    "\n",
    "# function to handle user registration\n",
    "def register():\n",
    "    username = input(\"Enter a username: \")\n",
    "    password = input(\"Enter a password: \")\n",
    "    if username in users:\n",
    "        print(\"Username already exists. Please choose a different username.\")\n",
    "    else:\n",
    "        users[username] = password\n",
    "        print(\"Registration successful.\")\n",
    "\n",
    "# function to handle user login\n",
    "def login():\n",
    "    username = input(\"Enter your username: \")\n",
    "    password = input(\"Enter your password: \")\n",
    "    if username not in users:\n",
    "        print(\"Invalid username.\")\n",
    "    elif users[username] != password:\n",
    "        print(\"Invalid password.\")\n",
    "    else:\n",
    "        print(\"Login successful.\")\n",
    "\n",
    "# main menu loop\n",
    "while True:\n",
    "    print(\"1. Register\")\n",
    "    print(\"2. Login\")\n",
    "    print(\"3. Exit\")\n",
    "    choice = input(\"Enter your choice: \")\n",
    "    if choice == \"1\":\n",
    "        register()\n",
    "    elif choice == \"2\":\n",
    "        login()\n",
    "    elif choice == \"3\":\n",
    "        print(\"Exiting program...\")\n",
    "        break\n",
    "    else:\n",
    "        print(\"Invalid choice. Please enter a number from 1-3.\")\n"
   ]
  },
  {
   "cell_type": "markdown",
   "metadata": {},
   "source": [
    "Question#84<br>\n",
    "Write a program that accepts neighbors(set of 2D co-ordinates) and a\n",
    "point(single 2D co-ordinate) and tells nearest neighbor(in terms of\n",
    "euclidean distance)"
   ]
  },
  {
   "cell_type": "code",
   "execution_count": 7,
   "metadata": {
    "tags": []
   },
   "outputs": [
    {
     "name": "stdout",
     "output_type": "stream",
     "text": [
      "(3, 4)\n"
     ]
    }
   ],
   "source": [
    "import math\n",
    "\n",
    "def distance(p1,p2):\n",
    "    return math.sqrt((p1[0] - p2[0])**2 + (p1[1] - p2[1])**2)\n",
    "\n",
    "def nearest_neighbor(neighbors, point):\n",
    "    min_distance = float(\"inf\")\n",
    "    nearest = None\n",
    "    for neighbor in neighbors:\n",
    "        d = distance(neighbor, point)\n",
    "        if d < min_distance:\n",
    "            min_distance = d\n",
    "            nearest = neighbor\n",
    "    return nearest\n",
    "\n",
    "neighbors = {(1, 7), (3, 4), (5, 8)}\n",
    "point = (0, 0)\n",
    "nearest = nearest_neighbor(neighbors, point)\n",
    "print(nearest)"
   ]
  },
  {
   "cell_type": "markdown",
   "metadata": {},
   "source": [
    "Question#85<br>\n",
    "Write a function that accepts a number and returns it’s factorial. You\n",
    "can not use any loop."
   ]
  },
  {
   "cell_type": "code",
   "execution_count": 2,
   "metadata": {
    "tags": []
   },
   "outputs": [
    {
     "name": "stdout",
     "output_type": "stream",
     "text": [
      "120\n"
     ]
    }
   ],
   "source": [
    "def fact(num):\n",
    "    if num == 0 or num == 1:\n",
    "        return 1\n",
    "    else:\n",
    "        return num * fact(num-1)\n",
    "n = 5\n",
    "print(fact(n))"
   ]
  },
  {
   "cell_type": "code",
   "execution_count": null,
   "metadata": {},
   "outputs": [],
   "source": []
  }
 ],
 "metadata": {
  "kernelspec": {
   "display_name": "Python 3 (ipykernel)",
   "language": "python",
   "name": "python3"
  },
  "language_info": {
   "codemirror_mode": {
    "name": "ipython",
    "version": 3
   },
   "file_extension": ".py",
   "mimetype": "text/x-python",
   "name": "python",
   "nbconvert_exporter": "python",
   "pygments_lexer": "ipython3",
   "version": "3.10.10"
  },
  "vscode": {
   "interpreter": {
    "hash": "564188844b4e61afb68fe96a2f3da83067766dd0e5b45b54ea128c5a4a0d04c0"
   }
  }
 },
 "nbformat": 4,
 "nbformat_minor": 4
}
